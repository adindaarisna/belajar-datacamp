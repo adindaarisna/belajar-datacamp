{
 "cells": [
  {
   "cell_type": "markdown",
   "metadata": {},
   "source": [
    "# SKILL TRACK - Python Fundamentals"
   ]
  },
  {
   "cell_type": "markdown",
   "metadata": {},
   "source": [
    "## Introduction to Python"
   ]
  },
  {
   "cell_type": "markdown",
   "metadata": {},
   "source": [
    "##### Hello Python! "
   ]
  },
  {
   "cell_type": "code",
   "execution_count": 2,
   "metadata": {},
   "outputs": [
    {
     "name": "stdout",
     "output_type": "stream",
     "text": [
      "2.0\n"
     ]
    },
    {
     "data": {
      "text/plain": [
       "float"
      ]
     },
     "execution_count": 2,
     "metadata": {},
     "output_type": "execute_result"
    }
   ],
   "source": [
    "a,b = 10,5\n",
    "ress1 = a/b\n",
    "print(ress1)\n",
    "type(ress1)"
   ]
  },
  {
   "cell_type": "code",
   "execution_count": 3,
   "metadata": {},
   "outputs": [
    {
     "name": "stdout",
     "output_type": "stream",
     "text": [
      "1.1\n"
     ]
    },
    {
     "data": {
      "text/plain": [
       "float"
      ]
     },
     "execution_count": 3,
     "metadata": {},
     "output_type": "execute_result"
    }
   ],
   "source": [
    "c,d = 2.2,2\n",
    "ress2 = c/d\n",
    "print(ress2)\n",
    "type(ress2)"
   ]
  },
  {
   "cell_type": "code",
   "execution_count": 4,
   "metadata": {},
   "outputs": [
    {
     "name": "stdout",
     "output_type": "stream",
     "text": [
      "<class 'str'>\n"
     ]
    }
   ],
   "source": [
    "one = 'adinda2'\n",
    "print(type(one))"
   ]
  },
  {
   "cell_type": "code",
   "execution_count": 5,
   "metadata": {},
   "outputs": [
    {
     "name": "stdout",
     "output_type": "stream",
     "text": [
      "<class 'bool'>\n"
     ]
    }
   ],
   "source": [
    "dua = True\n",
    "print(type(dua))"
   ]
  },
  {
   "cell_type": "code",
   "execution_count": 6,
   "metadata": {},
   "outputs": [
    {
     "name": "stdout",
     "output_type": "stream",
     "text": [
      "<class 'str'>\n"
     ]
    }
   ],
   "source": [
    "x1 = 'ab'\n",
    "x2 = 'cd'\n",
    "ress3 = x1+x2\n",
    "print(type(ress3))"
   ]
  },
  {
   "cell_type": "markdown",
   "metadata": {},
   "source": [
    "##### Python List"
   ]
  },
  {
   "cell_type": "code",
   "execution_count": 7,
   "metadata": {},
   "outputs": [
    {
     "name": "stdout",
     "output_type": "stream",
     "text": [
      "<class 'list'>\n",
      "['joni', 12, 'alex', 15, 'lowa', 12]\n"
     ]
    }
   ],
   "source": [
    "#can contain different types\n",
    "l1 = ['joni', 12, 'alex', 15, 'lowa', 12]\n",
    "print(type(l1))\n",
    "print(l1)"
   ]
  },
  {
   "cell_type": "code",
   "execution_count": 8,
   "metadata": {},
   "outputs": [
    {
     "name": "stdout",
     "output_type": "stream",
     "text": [
      "[['jakarta', 13000], ['bandung', 10000], ['medan', 9000]]\n"
     ]
    }
   ],
   "source": [
    "l2=[['jakarta', 13000],\n",
    "   ['bandung', 10000],\n",
    "   ['medan', 9000]]\n",
    "print(l2)"
   ]
  },
  {
   "cell_type": "code",
   "execution_count": 9,
   "metadata": {},
   "outputs": [
    {
     "name": "stdout",
     "output_type": "stream",
     "text": [
      "7\n",
      "6\n",
      "[1, 2, 3, 4, 5, 6, 7]\n",
      "[1, 2, 3]\n",
      "[6, 7]\n"
     ]
    }
   ],
   "source": [
    "l3=[1,2,3,4,5,6,7]\n",
    "print(l3[-1])\n",
    "print(l3[-2])\n",
    "print(l3[:])\n",
    "print(l3[:3])\n",
    "print(l3[5:])"
   ]
  },
  {
   "cell_type": "code",
   "execution_count": 10,
   "metadata": {},
   "outputs": [
    {
     "name": "stdout",
     "output_type": "stream",
     "text": [
      "[1000, 2, 3, 4, 5, 6, 7]\n",
      "['none', 'none', 'lowi', 'andre']\n",
      "hasil dari mengedit list yang salah:  ['n', 'o', 'n', 'o', 'lowi', 'andre']\n"
     ]
    }
   ],
   "source": [
    "#----changing list element\n",
    "l4=[1,2,3,4,5,6,7]\n",
    "l4[0]=1000\n",
    "print(l4)\n",
    "\n",
    "l5=['adinda', 'dana', 'lowi', 'andre']\n",
    "l5[0:2]=['none', 'none'] #nilai penggantinya harus sebanyak list yg diganti\n",
    "print(l5)\n",
    "\n",
    "l6=['adinda', 'dana', 'lowi', 'andre']\n",
    "l6[0:2]='nono'\n",
    "print('hasil dari mengedit list yang salah: ',l6)"
   ]
  },
  {
   "cell_type": "code",
   "execution_count": 11,
   "metadata": {},
   "outputs": [
    {
     "name": "stdout",
     "output_type": "stream",
     "text": [
      "['a', 'b', 'c', 'd']\n",
      "[1, 2, 3, 4, 5]\n",
      "[1, 2, 3, 4, 5, 10, 11]\n"
     ]
    }
   ],
   "source": [
    "#---- adding and removing element\n",
    "l7=['a','b','c','d','eaaa']\n",
    "\n",
    "del(l7[-1])\n",
    "print(l7)\n",
    "\n",
    "l8=[1,2,3,4,5]\n",
    "l8 + [10,11] #tidak berhasil adding elements\n",
    "print(l8)\n",
    "newl8 = l8 + [10,11]\n",
    "print(newl8)"
   ]
  },
  {
   "cell_type": "markdown",
   "metadata": {},
   "source": [
    "##### Functions"
   ]
  },
  {
   "cell_type": "code",
   "execution_count": 12,
   "metadata": {},
   "outputs": [
    {
     "name": "stdout",
     "output_type": "stream",
     "text": [
      "5 1\n"
     ]
    }
   ],
   "source": [
    "l9 = [10, 11, 12 ,13, 14, 15, 20]\n",
    "print(max(l8), min(l8))"
   ]
  },
  {
   "cell_type": "code",
   "execution_count": 13,
   "metadata": {},
   "outputs": [
    {
     "data": {
      "text/plain": [
       "10"
      ]
     },
     "execution_count": 13,
     "metadata": {},
     "output_type": "execute_result"
    }
   ],
   "source": [
    "round(10.1)"
   ]
  },
  {
   "cell_type": "code",
   "execution_count": 14,
   "metadata": {},
   "outputs": [
    {
     "data": {
      "text/plain": [
       "11"
      ]
     },
     "execution_count": 14,
     "metadata": {},
     "output_type": "execute_result"
    }
   ],
   "source": [
    "round(10.9)"
   ]
  },
  {
   "cell_type": "code",
   "execution_count": 15,
   "metadata": {},
   "outputs": [
    {
     "name": "stdout",
     "output_type": "stream",
     "text": [
      "Help on built-in function round in module builtins:\n",
      "\n",
      "round(number, ndigits=None)\n",
      "    Round a number to a given precision in decimal digits.\n",
      "    \n",
      "    The return value is an integer if ndigits is omitted or None.  Otherwise\n",
      "    the return value has the same type as the number.  ndigits may be negative.\n",
      "\n"
     ]
    }
   ],
   "source": [
    "help(round)"
   ]
  },
  {
   "cell_type": "code",
   "execution_count": 16,
   "metadata": {},
   "outputs": [
    {
     "data": {
      "text/plain": [
       "10.4"
      ]
     },
     "execution_count": 16,
     "metadata": {},
     "output_type": "execute_result"
    }
   ],
   "source": [
    "round(10.45, 1)"
   ]
  },
  {
   "cell_type": "code",
   "execution_count": 17,
   "metadata": {},
   "outputs": [
    {
     "data": {
      "text/plain": [
       "10.5"
      ]
     },
     "execution_count": 17,
     "metadata": {},
     "output_type": "execute_result"
    }
   ],
   "source": [
    "round(10.46, 1)"
   ]
  },
  {
   "cell_type": "code",
   "execution_count": 18,
   "metadata": {},
   "outputs": [
    {
     "data": {
      "text/plain": [
       "10.46"
      ]
     },
     "execution_count": 18,
     "metadata": {},
     "output_type": "execute_result"
    }
   ],
   "source": [
    "round(10.46, 2)"
   ]
  },
  {
   "cell_type": "code",
   "execution_count": 19,
   "metadata": {},
   "outputs": [
    {
     "data": {
      "text/plain": [
       "10.45"
      ]
     },
     "execution_count": 19,
     "metadata": {},
     "output_type": "execute_result"
    }
   ],
   "source": [
    "round(10.45, 2)"
   ]
  },
  {
   "cell_type": "code",
   "execution_count": 20,
   "metadata": {},
   "outputs": [
    {
     "data": {
      "text/plain": [
       "3"
      ]
     },
     "execution_count": 20,
     "metadata": {},
     "output_type": "execute_result"
    }
   ],
   "source": [
    "#----Method\n",
    "# method is a function that belong to object\n",
    "# object with type str have methods like capitalize(), raplace() and so on\n",
    "# object with type list have methods like index(), count()\n",
    "\n",
    "l10 = [10,11,12,13, 11, 11, 12]\n",
    "l10.index(13)\n",
    "l10.count(11)"
   ]
  },
  {
   "cell_type": "code",
   "execution_count": 21,
   "metadata": {},
   "outputs": [
    {
     "name": "stdout",
     "output_type": "stream",
     "text": [
      "America USA\n"
     ]
    }
   ],
   "source": [
    "#----List of String Method\n",
    "s1='america'\n",
    "s1else='usa'\n",
    "print(s1.capitalize(), s1else.upper())"
   ]
  },
  {
   "cell_type": "code",
   "execution_count": 22,
   "metadata": {},
   "outputs": [
    {
     "name": "stdout",
     "output_type": "stream",
     "text": [
      "japan hiragana\n"
     ]
    }
   ],
   "source": [
    "s2='JAPAN'\n",
    "s2else='HIRAGANA'\n",
    "print(s2.casefold(), s2else.lower())"
   ]
  },
  {
   "cell_type": "code",
   "execution_count": 23,
   "metadata": {},
   "outputs": [
    {
     "data": {
      "text/plain": [
       "'       Spain        '"
      ]
     },
     "execution_count": 23,
     "metadata": {},
     "output_type": "execute_result"
    }
   ],
   "source": [
    "s3='Spain'\n",
    "s3.center(20)"
   ]
  },
  {
   "cell_type": "code",
   "execution_count": 24,
   "metadata": {},
   "outputs": [
    {
     "data": {
      "text/plain": [
       "2"
      ]
     },
     "execution_count": 24,
     "metadata": {},
     "output_type": "execute_result"
    }
   ],
   "source": [
    "s4='Jane lives in USA. Jane is going to Bali'\n",
    "s4.count('Jane')"
   ]
  },
  {
   "cell_type": "code",
   "execution_count": 25,
   "metadata": {},
   "outputs": [
    {
     "data": {
      "text/plain": [
       "0"
      ]
     },
     "execution_count": 25,
     "metadata": {},
     "output_type": "execute_result"
    }
   ],
   "source": [
    "s5='INDOENSIA'\n",
    "s5.find('I')"
   ]
  },
  {
   "cell_type": "code",
   "execution_count": 26,
   "metadata": {},
   "outputs": [
    {
     "data": {
      "text/plain": [
       "3"
      ]
     },
     "execution_count": 26,
     "metadata": {},
     "output_type": "execute_result"
    }
   ],
   "source": [
    "s6='LOKASI'\n",
    "s6.index('A')"
   ]
  },
  {
   "cell_type": "code",
   "execution_count": 27,
   "metadata": {},
   "outputs": [
    {
     "data": {
      "text/plain": [
       "False"
      ]
     },
     "execution_count": 27,
     "metadata": {},
     "output_type": "execute_result"
    }
   ],
   "source": [
    "s7='Jumlah penduduk adalah 100 juta jiwa'\n",
    "s7.isalnum()"
   ]
  },
  {
   "cell_type": "code",
   "execution_count": 28,
   "metadata": {},
   "outputs": [
    {
     "name": "stdout",
     "output_type": "stream",
     "text": [
      "False True\n"
     ]
    }
   ],
   "source": [
    "s8='kompas gramedia'\n",
    "s9='kompasgramedia'\n",
    "print(s8.isalpha(), s9.isalpha())"
   ]
  },
  {
   "cell_type": "code",
   "execution_count": 29,
   "metadata": {},
   "outputs": [],
   "source": [
    "#----Packeges\n",
    "# import numpy as np\n",
    "# from numpy import array"
   ]
  },
  {
   "cell_type": "markdown",
   "metadata": {},
   "source": [
    "##### Numpy "
   ]
  },
  {
   "cell_type": "code",
   "execution_count": 30,
   "metadata": {},
   "outputs": [],
   "source": [
    "# Numpy is a numeric python\n",
    "# Numpy array is the alternative to python list\n",
    "# numpay can calculate the entire array using simple command"
   ]
  },
  {
   "cell_type": "code",
   "execution_count": 31,
   "metadata": {},
   "outputs": [],
   "source": [
    "import numpy as np"
   ]
  },
  {
   "cell_type": "code",
   "execution_count": 32,
   "metadata": {},
   "outputs": [
    {
     "name": "stdout",
     "output_type": "stream",
     "text": [
      "Keliling lingkaran:  [62.8  31.4  43.96]\n",
      "Luas lingkaran:  [314.    78.5  153.86]\n"
     ]
    }
   ],
   "source": [
    "r = np.array([10, 5, 7])\n",
    "kel_lingkaran = 3.14*r*2\n",
    "luas_lingkaran = 3.14*r**2\n",
    "print('Keliling lingkaran: ',kel_lingkaran)\n",
    "print('Luas lingkaran: ', luas_lingkaran)"
   ]
  },
  {
   "cell_type": "code",
   "execution_count": 33,
   "metadata": {},
   "outputs": [
    {
     "name": "stdout",
     "output_type": "stream",
     "text": [
      "[6 6 6 6 6]\n"
     ]
    }
   ],
   "source": [
    "ar1=np.array([1,2,3,4,5])\n",
    "ar2=np.array([5,4,3,2,1])\n",
    "print(ar1+ar2)\n",
    "# tanda + akan bermakna beda anatara object list dan numpy array\n",
    "# tanda + pd list akan menyambungkan dua list menjadi satu\n",
    "# tanda + pd numpy array menjumlahkan isi numpy array a dengan b\n",
    "# dan menyimpan hasilnya di numpay array yang baru"
   ]
  },
  {
   "cell_type": "code",
   "execution_count": 34,
   "metadata": {},
   "outputs": [
    {
     "name": "stdout",
     "output_type": "stream",
     "text": [
      "[-4 -2  0  2  4]\n",
      "[False False False  True  True]\n",
      "[2 4]\n"
     ]
    }
   ],
   "source": [
    "diffar=ar1-ar2\n",
    "print(diffar)\n",
    "print(diffar>0) # array of bolean\n",
    "print(diffar[diffar>0]) # the actual result"
   ]
  },
  {
   "cell_type": "code",
   "execution_count": 46,
   "metadata": {},
   "outputs": [
    {
     "name": "stdout",
     "output_type": "stream",
     "text": [
      "<class 'numpy.ndarray'>\n"
     ]
    },
    {
     "data": {
      "text/plain": [
       "array([[10, 11, 12, 13, 14, 15],\n",
       "       [20, 21, 22, 23, 24, 25]])"
      ]
     },
     "execution_count": 46,
     "metadata": {},
     "output_type": "execute_result"
    }
   ],
   "source": [
    "#----2D Numpy Array\n",
    "ad = np.array([[10,11,12,13,14,15],\n",
    "                [20,21,22,23,24,25]])\n",
    "print(type(ad))\n",
    "ad"
   ]
  },
  {
   "cell_type": "code",
   "execution_count": 47,
   "metadata": {},
   "outputs": [
    {
     "data": {
      "text/plain": [
       "array([10, 11, 12, 13, 14, 15])"
      ]
     },
     "execution_count": 47,
     "metadata": {},
     "output_type": "execute_result"
    }
   ],
   "source": [
    "ad[0] #subsetting array"
   ]
  },
  {
   "cell_type": "code",
   "execution_count": 48,
   "metadata": {},
   "outputs": [
    {
     "data": {
      "text/plain": [
       "10"
      ]
     },
     "execution_count": 48,
     "metadata": {},
     "output_type": "execute_result"
    }
   ],
   "source": [
    "ad[0][0]"
   ]
  },
  {
   "cell_type": "code",
   "execution_count": 56,
   "metadata": {},
   "outputs": [
    {
     "data": {
      "text/plain": [
       "array([[1, 1, 1, 1, 1],\n",
       "       [2, 2, 2, 2, 2],\n",
       "       [3, 3, 3, 3, 3],\n",
       "       [4, 4, 4, 4, 4]])"
      ]
     },
     "execution_count": 56,
     "metadata": {},
     "output_type": "execute_result"
    }
   ],
   "source": [
    "ac= np.array([[1,1,1,1,1],\n",
    "             [2,2,2,2,2],\n",
    "             [3,3,3,3,3],\n",
    "             [4,4,4,4,4]])\n",
    "ac"
   ]
  },
  {
   "cell_type": "code",
   "execution_count": 65,
   "metadata": {},
   "outputs": [
    {
     "data": {
      "text/plain": [
       "array([[3, 3, 3],\n",
       "       [4, 4, 4]])"
      ]
     },
     "execution_count": 65,
     "metadata": {},
     "output_type": "execute_result"
    }
   ],
   "source": [
    "ac[2:, 2:]"
   ]
  },
  {
   "cell_type": "code",
   "execution_count": 68,
   "metadata": {},
   "outputs": [
    {
     "data": {
      "text/plain": [
       "array([[1, 1],\n",
       "       [2, 2]])"
      ]
     },
     "execution_count": 68,
     "metadata": {},
     "output_type": "execute_result"
    }
   ],
   "source": [
    "ac[:2, :2]"
   ]
  },
  {
   "cell_type": "code",
   "execution_count": 69,
   "metadata": {},
   "outputs": [
    {
     "data": {
      "text/plain": [
       "array([[2, 2, 2],\n",
       "       [3, 3, 3],\n",
       "       [4, 4, 4]])"
      ]
     },
     "execution_count": 69,
     "metadata": {},
     "output_type": "execute_result"
    }
   ],
   "source": [
    "ac[1:4, 1:4]"
   ]
  },
  {
   "cell_type": "code",
   "execution_count": 49,
   "metadata": {},
   "outputs": [
    {
     "data": {
      "text/plain": [
       "array([10, 20])"
      ]
     },
     "execution_count": 49,
     "metadata": {},
     "output_type": "execute_result"
    }
   ],
   "source": [
    "ad[:, 0]"
   ]
  },
  {
   "cell_type": "code",
   "execution_count": 51,
   "metadata": {},
   "outputs": [
    {
     "name": "stdout",
     "output_type": "stream",
     "text": [
      "12.5\n",
      "12.5\n"
     ]
    }
   ],
   "source": [
    "#array operation\n",
    "print(np.mean(ad[0]))\n",
    "print(np.median(ad[0]))"
   ]
  },
  {
   "cell_type": "markdown",
   "metadata": {},
   "source": [
    "## Intermediate Python"
   ]
  },
  {
   "cell_type": "markdown",
   "metadata": {},
   "source": [
    "##### Basic plots with matplotlib"
   ]
  },
  {
   "cell_type": "code",
   "execution_count": 71,
   "metadata": {},
   "outputs": [],
   "source": [
    "import matplotlib.pyplot as plt\n",
    "import pandas as pd"
   ]
  },
  {
   "cell_type": "code",
   "execution_count": 92,
   "metadata": {},
   "outputs": [
    {
     "data": {
      "text/html": [
       "<div>\n",
       "<style scoped>\n",
       "    .dataframe tbody tr th:only-of-type {\n",
       "        vertical-align: middle;\n",
       "    }\n",
       "\n",
       "    .dataframe tbody tr th {\n",
       "        vertical-align: top;\n",
       "    }\n",
       "\n",
       "    .dataframe thead th {\n",
       "        text-align: right;\n",
       "    }\n",
       "</style>\n",
       "<table border=\"1\" class=\"dataframe\">\n",
       "  <thead>\n",
       "    <tr style=\"text-align: right;\">\n",
       "      <th></th>\n",
       "      <th>id</th>\n",
       "      <th>name</th>\n",
       "      <th>date</th>\n",
       "      <th>manner_of_death</th>\n",
       "      <th>armed</th>\n",
       "      <th>age</th>\n",
       "      <th>gender</th>\n",
       "      <th>race</th>\n",
       "      <th>city</th>\n",
       "      <th>state</th>\n",
       "      <th>signs_of_mental_illness</th>\n",
       "      <th>threat_level</th>\n",
       "      <th>flee</th>\n",
       "      <th>body_camera</th>\n",
       "      <th>arms_category</th>\n",
       "    </tr>\n",
       "  </thead>\n",
       "  <tbody>\n",
       "    <tr>\n",
       "      <th>0</th>\n",
       "      <td>3</td>\n",
       "      <td>Tim Elliot</td>\n",
       "      <td>2015-01-02</td>\n",
       "      <td>shot</td>\n",
       "      <td>gun</td>\n",
       "      <td>53.0</td>\n",
       "      <td>M</td>\n",
       "      <td>Asian</td>\n",
       "      <td>Shelton</td>\n",
       "      <td>WA</td>\n",
       "      <td>True</td>\n",
       "      <td>attack</td>\n",
       "      <td>Not fleeing</td>\n",
       "      <td>False</td>\n",
       "      <td>Guns</td>\n",
       "    </tr>\n",
       "    <tr>\n",
       "      <th>1</th>\n",
       "      <td>4</td>\n",
       "      <td>Lewis Lee Lembke</td>\n",
       "      <td>2015-01-02</td>\n",
       "      <td>shot</td>\n",
       "      <td>gun</td>\n",
       "      <td>47.0</td>\n",
       "      <td>M</td>\n",
       "      <td>White</td>\n",
       "      <td>Aloha</td>\n",
       "      <td>OR</td>\n",
       "      <td>False</td>\n",
       "      <td>attack</td>\n",
       "      <td>Not fleeing</td>\n",
       "      <td>False</td>\n",
       "      <td>Guns</td>\n",
       "    </tr>\n",
       "    <tr>\n",
       "      <th>2</th>\n",
       "      <td>5</td>\n",
       "      <td>John Paul Quintero</td>\n",
       "      <td>2015-01-03</td>\n",
       "      <td>shot and Tasered</td>\n",
       "      <td>unarmed</td>\n",
       "      <td>23.0</td>\n",
       "      <td>M</td>\n",
       "      <td>Hispanic</td>\n",
       "      <td>Wichita</td>\n",
       "      <td>KS</td>\n",
       "      <td>False</td>\n",
       "      <td>other</td>\n",
       "      <td>Not fleeing</td>\n",
       "      <td>False</td>\n",
       "      <td>Unarmed</td>\n",
       "    </tr>\n",
       "    <tr>\n",
       "      <th>3</th>\n",
       "      <td>8</td>\n",
       "      <td>Matthew Hoffman</td>\n",
       "      <td>2015-01-04</td>\n",
       "      <td>shot</td>\n",
       "      <td>toy weapon</td>\n",
       "      <td>32.0</td>\n",
       "      <td>M</td>\n",
       "      <td>White</td>\n",
       "      <td>San Francisco</td>\n",
       "      <td>CA</td>\n",
       "      <td>True</td>\n",
       "      <td>attack</td>\n",
       "      <td>Not fleeing</td>\n",
       "      <td>False</td>\n",
       "      <td>Other unusual objects</td>\n",
       "    </tr>\n",
       "    <tr>\n",
       "      <th>4</th>\n",
       "      <td>9</td>\n",
       "      <td>Michael Rodriguez</td>\n",
       "      <td>2015-01-04</td>\n",
       "      <td>shot</td>\n",
       "      <td>nail gun</td>\n",
       "      <td>39.0</td>\n",
       "      <td>M</td>\n",
       "      <td>Hispanic</td>\n",
       "      <td>Evans</td>\n",
       "      <td>CO</td>\n",
       "      <td>False</td>\n",
       "      <td>attack</td>\n",
       "      <td>Not fleeing</td>\n",
       "      <td>False</td>\n",
       "      <td>Piercing objects</td>\n",
       "    </tr>\n",
       "  </tbody>\n",
       "</table>\n",
       "</div>"
      ],
      "text/plain": [
       "   id                name        date   manner_of_death       armed   age  \\\n",
       "0   3          Tim Elliot  2015-01-02              shot         gun  53.0   \n",
       "1   4    Lewis Lee Lembke  2015-01-02              shot         gun  47.0   \n",
       "2   5  John Paul Quintero  2015-01-03  shot and Tasered     unarmed  23.0   \n",
       "3   8     Matthew Hoffman  2015-01-04              shot  toy weapon  32.0   \n",
       "4   9   Michael Rodriguez  2015-01-04              shot    nail gun  39.0   \n",
       "\n",
       "  gender      race           city state  signs_of_mental_illness threat_level  \\\n",
       "0      M     Asian        Shelton    WA                     True       attack   \n",
       "1      M     White          Aloha    OR                    False       attack   \n",
       "2      M  Hispanic        Wichita    KS                    False        other   \n",
       "3      M     White  San Francisco    CA                     True       attack   \n",
       "4      M  Hispanic          Evans    CO                    False       attack   \n",
       "\n",
       "          flee  body_camera          arms_category  \n",
       "0  Not fleeing        False                   Guns  \n",
       "1  Not fleeing        False                   Guns  \n",
       "2  Not fleeing        False                Unarmed  \n",
       "3  Not fleeing        False  Other unusual objects  \n",
       "4  Not fleeing        False       Piercing objects  "
      ]
     },
     "execution_count": 92,
     "metadata": {},
     "output_type": "execute_result"
    }
   ],
   "source": [
    "usshooting = pd.read_csv('shootings.csv')\n",
    "usshooting.head()"
   ]
  },
  {
   "cell_type": "code",
   "execution_count": 123,
   "metadata": {},
   "outputs": [
    {
     "data": {
      "text/plain": [
       "pandas.core.frame.DataFrame"
      ]
     },
     "execution_count": 123,
     "metadata": {},
     "output_type": "execute_result"
    }
   ],
   "source": [
    "type(usshooting)"
   ]
  },
  {
   "cell_type": "code",
   "execution_count": 145,
   "metadata": {},
   "outputs": [
    {
     "data": {
      "text/html": [
       "<div>\n",
       "<style scoped>\n",
       "    .dataframe tbody tr th:only-of-type {\n",
       "        vertical-align: middle;\n",
       "    }\n",
       "\n",
       "    .dataframe tbody tr th {\n",
       "        vertical-align: top;\n",
       "    }\n",
       "\n",
       "    .dataframe thead th {\n",
       "        text-align: right;\n",
       "    }\n",
       "</style>\n",
       "<table border=\"1\" class=\"dataframe\">\n",
       "  <thead>\n",
       "    <tr style=\"text-align: right;\">\n",
       "      <th></th>\n",
       "      <th>id</th>\n",
       "      <th>name</th>\n",
       "      <th>date</th>\n",
       "      <th>manner_of_death</th>\n",
       "      <th>armed</th>\n",
       "      <th>age</th>\n",
       "      <th>gender</th>\n",
       "      <th>race</th>\n",
       "      <th>city</th>\n",
       "      <th>state</th>\n",
       "      <th>signs_of_mental_illness</th>\n",
       "      <th>threat_level</th>\n",
       "      <th>flee</th>\n",
       "      <th>body_camera</th>\n",
       "      <th>arms_category</th>\n",
       "    </tr>\n",
       "  </thead>\n",
       "  <tbody>\n",
       "    <tr>\n",
       "      <th>3663</th>\n",
       "      <td>4334</td>\n",
       "      <td>Dylan Michael Smith</td>\n",
       "      <td>2019-01-01</td>\n",
       "      <td>shot</td>\n",
       "      <td>gun</td>\n",
       "      <td>26.000000</td>\n",
       "      <td>M</td>\n",
       "      <td>White</td>\n",
       "      <td>Davidson County</td>\n",
       "      <td>NC</td>\n",
       "      <td>False</td>\n",
       "      <td>attack</td>\n",
       "      <td>Foot</td>\n",
       "      <td>False</td>\n",
       "      <td>Guns</td>\n",
       "    </tr>\n",
       "    <tr>\n",
       "      <th>3664</th>\n",
       "      <td>4504</td>\n",
       "      <td>Brandon Lovell Webster</td>\n",
       "      <td>2019-01-01</td>\n",
       "      <td>shot</td>\n",
       "      <td>vehicle</td>\n",
       "      <td>28.000000</td>\n",
       "      <td>M</td>\n",
       "      <td>Black</td>\n",
       "      <td>Shallotte</td>\n",
       "      <td>NC</td>\n",
       "      <td>False</td>\n",
       "      <td>other</td>\n",
       "      <td>Car</td>\n",
       "      <td>False</td>\n",
       "      <td>Vehicles</td>\n",
       "    </tr>\n",
       "    <tr>\n",
       "      <th>3665</th>\n",
       "      <td>4342</td>\n",
       "      <td>Matthew Burroughs</td>\n",
       "      <td>2019-01-02</td>\n",
       "      <td>shot</td>\n",
       "      <td>vehicle</td>\n",
       "      <td>35.000000</td>\n",
       "      <td>M</td>\n",
       "      <td>Black</td>\n",
       "      <td>Niles</td>\n",
       "      <td>OH</td>\n",
       "      <td>False</td>\n",
       "      <td>attack</td>\n",
       "      <td>Foot</td>\n",
       "      <td>False</td>\n",
       "      <td>Vehicles</td>\n",
       "    </tr>\n",
       "    <tr>\n",
       "      <th>3666</th>\n",
       "      <td>4343</td>\n",
       "      <td>Abdoulaye Thiam</td>\n",
       "      <td>2019-01-02</td>\n",
       "      <td>shot</td>\n",
       "      <td>knife</td>\n",
       "      <td>20.000000</td>\n",
       "      <td>M</td>\n",
       "      <td>Black</td>\n",
       "      <td>Whitehaven</td>\n",
       "      <td>TN</td>\n",
       "      <td>False</td>\n",
       "      <td>other</td>\n",
       "      <td>Not fleeing</td>\n",
       "      <td>True</td>\n",
       "      <td>Sharp objects</td>\n",
       "    </tr>\n",
       "    <tr>\n",
       "      <th>3667</th>\n",
       "      <td>4345</td>\n",
       "      <td>Arron Thomas Lambert</td>\n",
       "      <td>2019-01-02</td>\n",
       "      <td>shot</td>\n",
       "      <td>Taser</td>\n",
       "      <td>33.000000</td>\n",
       "      <td>M</td>\n",
       "      <td>White</td>\n",
       "      <td>San Antonio</td>\n",
       "      <td>TX</td>\n",
       "      <td>False</td>\n",
       "      <td>attack</td>\n",
       "      <td>Other</td>\n",
       "      <td>False</td>\n",
       "      <td>Electrical devices</td>\n",
       "    </tr>\n",
       "    <tr>\n",
       "      <th>3668</th>\n",
       "      <td>4344</td>\n",
       "      <td>Samuel Garcia</td>\n",
       "      <td>2019-01-03</td>\n",
       "      <td>shot</td>\n",
       "      <td>gun</td>\n",
       "      <td>39.000000</td>\n",
       "      <td>M</td>\n",
       "      <td>Hispanic</td>\n",
       "      <td>San Antonio</td>\n",
       "      <td>TX</td>\n",
       "      <td>False</td>\n",
       "      <td>attack</td>\n",
       "      <td>Other</td>\n",
       "      <td>False</td>\n",
       "      <td>Guns</td>\n",
       "    </tr>\n",
       "    <tr>\n",
       "      <th>3669</th>\n",
       "      <td>4347</td>\n",
       "      <td>Robert Myers</td>\n",
       "      <td>2019-01-03</td>\n",
       "      <td>shot</td>\n",
       "      <td>gun</td>\n",
       "      <td>63.000000</td>\n",
       "      <td>M</td>\n",
       "      <td>White</td>\n",
       "      <td>Greenport</td>\n",
       "      <td>NY</td>\n",
       "      <td>True</td>\n",
       "      <td>attack</td>\n",
       "      <td>Not fleeing</td>\n",
       "      <td>False</td>\n",
       "      <td>Guns</td>\n",
       "    </tr>\n",
       "    <tr>\n",
       "      <th>3670</th>\n",
       "      <td>4348</td>\n",
       "      <td>Joseph Roberts</td>\n",
       "      <td>2019-01-03</td>\n",
       "      <td>shot</td>\n",
       "      <td>knife</td>\n",
       "      <td>27.000000</td>\n",
       "      <td>M</td>\n",
       "      <td>White</td>\n",
       "      <td>Albert Lea</td>\n",
       "      <td>MN</td>\n",
       "      <td>True</td>\n",
       "      <td>attack</td>\n",
       "      <td>Other</td>\n",
       "      <td>False</td>\n",
       "      <td>Sharp objects</td>\n",
       "    </tr>\n",
       "    <tr>\n",
       "      <th>3671</th>\n",
       "      <td>4349</td>\n",
       "      <td>Abiel Innis De Joel Rios</td>\n",
       "      <td>2019-01-03</td>\n",
       "      <td>shot</td>\n",
       "      <td>gun</td>\n",
       "      <td>33.000000</td>\n",
       "      <td>M</td>\n",
       "      <td>Hispanic</td>\n",
       "      <td>Visalia</td>\n",
       "      <td>CA</td>\n",
       "      <td>True</td>\n",
       "      <td>attack</td>\n",
       "      <td>Not fleeing</td>\n",
       "      <td>False</td>\n",
       "      <td>Guns</td>\n",
       "    </tr>\n",
       "    <tr>\n",
       "      <th>3672</th>\n",
       "      <td>4350</td>\n",
       "      <td>Jae Wesley Hardy</td>\n",
       "      <td>2019-01-03</td>\n",
       "      <td>shot</td>\n",
       "      <td>gun</td>\n",
       "      <td>27.000000</td>\n",
       "      <td>M</td>\n",
       "      <td>Black</td>\n",
       "      <td>Millbrook</td>\n",
       "      <td>AL</td>\n",
       "      <td>False</td>\n",
       "      <td>other</td>\n",
       "      <td>Car</td>\n",
       "      <td>False</td>\n",
       "      <td>Guns</td>\n",
       "    </tr>\n",
       "    <tr>\n",
       "      <th>3673</th>\n",
       "      <td>4505</td>\n",
       "      <td>Eric David Sauerhagen</td>\n",
       "      <td>2019-01-03</td>\n",
       "      <td>shot</td>\n",
       "      <td>gun</td>\n",
       "      <td>31.000000</td>\n",
       "      <td>M</td>\n",
       "      <td>White</td>\n",
       "      <td>Bozeman</td>\n",
       "      <td>MT</td>\n",
       "      <td>False</td>\n",
       "      <td>other</td>\n",
       "      <td>Not fleeing</td>\n",
       "      <td>False</td>\n",
       "      <td>Guns</td>\n",
       "    </tr>\n",
       "    <tr>\n",
       "      <th>3674</th>\n",
       "      <td>4367</td>\n",
       "      <td>Zonell Williams</td>\n",
       "      <td>2019-01-04</td>\n",
       "      <td>shot</td>\n",
       "      <td>gun</td>\n",
       "      <td>33.000000</td>\n",
       "      <td>M</td>\n",
       "      <td>Black</td>\n",
       "      <td>Treme</td>\n",
       "      <td>LA</td>\n",
       "      <td>True</td>\n",
       "      <td>attack</td>\n",
       "      <td>Not fleeing</td>\n",
       "      <td>True</td>\n",
       "      <td>Guns</td>\n",
       "    </tr>\n",
       "    <tr>\n",
       "      <th>3675</th>\n",
       "      <td>4506</td>\n",
       "      <td>Jeremy Dean Duncan</td>\n",
       "      <td>2019-01-04</td>\n",
       "      <td>shot</td>\n",
       "      <td>vehicle</td>\n",
       "      <td>39.000000</td>\n",
       "      <td>M</td>\n",
       "      <td>White</td>\n",
       "      <td>Amarillo</td>\n",
       "      <td>TX</td>\n",
       "      <td>False</td>\n",
       "      <td>attack</td>\n",
       "      <td>Car</td>\n",
       "      <td>False</td>\n",
       "      <td>Vehicles</td>\n",
       "    </tr>\n",
       "    <tr>\n",
       "      <th>3676</th>\n",
       "      <td>4507</td>\n",
       "      <td>John Richard Camacho</td>\n",
       "      <td>2019-01-04</td>\n",
       "      <td>shot</td>\n",
       "      <td>toy weapon</td>\n",
       "      <td>27.000000</td>\n",
       "      <td>M</td>\n",
       "      <td>White</td>\n",
       "      <td>San Marcos</td>\n",
       "      <td>TX</td>\n",
       "      <td>False</td>\n",
       "      <td>other</td>\n",
       "      <td>Car</td>\n",
       "      <td>False</td>\n",
       "      <td>Other unusual objects</td>\n",
       "    </tr>\n",
       "    <tr>\n",
       "      <th>3677</th>\n",
       "      <td>4508</td>\n",
       "      <td>Lawrence Thompson III</td>\n",
       "      <td>2019-01-04</td>\n",
       "      <td>shot</td>\n",
       "      <td>gun</td>\n",
       "      <td>32.000000</td>\n",
       "      <td>M</td>\n",
       "      <td>Black</td>\n",
       "      <td>Houston</td>\n",
       "      <td>TX</td>\n",
       "      <td>True</td>\n",
       "      <td>attack</td>\n",
       "      <td>Not fleeing</td>\n",
       "      <td>False</td>\n",
       "      <td>Guns</td>\n",
       "    </tr>\n",
       "    <tr>\n",
       "      <th>3678</th>\n",
       "      <td>4355</td>\n",
       "      <td>Oliver Hernandez</td>\n",
       "      <td>2019-01-05</td>\n",
       "      <td>shot</td>\n",
       "      <td>ax</td>\n",
       "      <td>29.000000</td>\n",
       "      <td>M</td>\n",
       "      <td>Hispanic</td>\n",
       "      <td>Fresno</td>\n",
       "      <td>CA</td>\n",
       "      <td>False</td>\n",
       "      <td>other</td>\n",
       "      <td>Not fleeing</td>\n",
       "      <td>False</td>\n",
       "      <td>Blunt instruments</td>\n",
       "    </tr>\n",
       "    <tr>\n",
       "      <th>3679</th>\n",
       "      <td>4357</td>\n",
       "      <td>Adolfo Gonzalez</td>\n",
       "      <td>2019-01-05</td>\n",
       "      <td>shot</td>\n",
       "      <td>gun</td>\n",
       "      <td>28.000000</td>\n",
       "      <td>M</td>\n",
       "      <td>Hispanic</td>\n",
       "      <td>Lemon Grove</td>\n",
       "      <td>CA</td>\n",
       "      <td>False</td>\n",
       "      <td>other</td>\n",
       "      <td>Not fleeing</td>\n",
       "      <td>False</td>\n",
       "      <td>Guns</td>\n",
       "    </tr>\n",
       "    <tr>\n",
       "      <th>3680</th>\n",
       "      <td>4360</td>\n",
       "      <td>David John Engebretson</td>\n",
       "      <td>2019-01-05</td>\n",
       "      <td>shot</td>\n",
       "      <td>gun</td>\n",
       "      <td>50.000000</td>\n",
       "      <td>M</td>\n",
       "      <td>White</td>\n",
       "      <td>Milwaukie</td>\n",
       "      <td>OR</td>\n",
       "      <td>False</td>\n",
       "      <td>attack</td>\n",
       "      <td>Not fleeing</td>\n",
       "      <td>False</td>\n",
       "      <td>Guns</td>\n",
       "    </tr>\n",
       "    <tr>\n",
       "      <th>3681</th>\n",
       "      <td>4361</td>\n",
       "      <td>Shaun Kennedy</td>\n",
       "      <td>2019-01-05</td>\n",
       "      <td>shot</td>\n",
       "      <td>gun</td>\n",
       "      <td>55.000000</td>\n",
       "      <td>M</td>\n",
       "      <td>White</td>\n",
       "      <td>Santa Clara</td>\n",
       "      <td>CA</td>\n",
       "      <td>False</td>\n",
       "      <td>attack</td>\n",
       "      <td>Not fleeing</td>\n",
       "      <td>False</td>\n",
       "      <td>Guns</td>\n",
       "    </tr>\n",
       "    <tr>\n",
       "      <th>3682</th>\n",
       "      <td>4352</td>\n",
       "      <td>Kevin Shawn Hanson</td>\n",
       "      <td>2019-01-06</td>\n",
       "      <td>shot</td>\n",
       "      <td>gun</td>\n",
       "      <td>42.000000</td>\n",
       "      <td>M</td>\n",
       "      <td>Black</td>\n",
       "      <td>Hurricane</td>\n",
       "      <td>WV</td>\n",
       "      <td>False</td>\n",
       "      <td>attack</td>\n",
       "      <td>Car</td>\n",
       "      <td>False</td>\n",
       "      <td>Guns</td>\n",
       "    </tr>\n",
       "    <tr>\n",
       "      <th>3683</th>\n",
       "      <td>4353</td>\n",
       "      <td>Andre C. Gladen</td>\n",
       "      <td>2019-01-06</td>\n",
       "      <td>shot and Tasered</td>\n",
       "      <td>knife</td>\n",
       "      <td>36.000000</td>\n",
       "      <td>M</td>\n",
       "      <td>Black</td>\n",
       "      <td>Portland</td>\n",
       "      <td>OR</td>\n",
       "      <td>True</td>\n",
       "      <td>other</td>\n",
       "      <td>Not fleeing</td>\n",
       "      <td>False</td>\n",
       "      <td>Sharp objects</td>\n",
       "    </tr>\n",
       "    <tr>\n",
       "      <th>3684</th>\n",
       "      <td>5409</td>\n",
       "      <td>Nil Houer</td>\n",
       "      <td>2019-01-06</td>\n",
       "      <td>shot</td>\n",
       "      <td>gun</td>\n",
       "      <td>38.000000</td>\n",
       "      <td>M</td>\n",
       "      <td>Asian</td>\n",
       "      <td>Houston</td>\n",
       "      <td>TX</td>\n",
       "      <td>False</td>\n",
       "      <td>other</td>\n",
       "      <td>Not fleeing</td>\n",
       "      <td>False</td>\n",
       "      <td>Guns</td>\n",
       "    </tr>\n",
       "    <tr>\n",
       "      <th>3685</th>\n",
       "      <td>4351</td>\n",
       "      <td>Miguel Barraza-Lugo</td>\n",
       "      <td>2019-01-07</td>\n",
       "      <td>shot</td>\n",
       "      <td>gun</td>\n",
       "      <td>38.000000</td>\n",
       "      <td>M</td>\n",
       "      <td>Hispanic</td>\n",
       "      <td>Kent</td>\n",
       "      <td>WA</td>\n",
       "      <td>False</td>\n",
       "      <td>attack</td>\n",
       "      <td>Car</td>\n",
       "      <td>False</td>\n",
       "      <td>Guns</td>\n",
       "    </tr>\n",
       "    <tr>\n",
       "      <th>3686</th>\n",
       "      <td>4362</td>\n",
       "      <td>David Novak</td>\n",
       "      <td>2019-01-07</td>\n",
       "      <td>shot</td>\n",
       "      <td>baseball bat</td>\n",
       "      <td>35.000000</td>\n",
       "      <td>M</td>\n",
       "      <td>White</td>\n",
       "      <td>Spokane</td>\n",
       "      <td>WA</td>\n",
       "      <td>False</td>\n",
       "      <td>attack</td>\n",
       "      <td>Not fleeing</td>\n",
       "      <td>True</td>\n",
       "      <td>Blunt instruments</td>\n",
       "    </tr>\n",
       "    <tr>\n",
       "      <th>3687</th>\n",
       "      <td>4510</td>\n",
       "      <td>Jeremy Dale Edmonds</td>\n",
       "      <td>2019-01-07</td>\n",
       "      <td>shot</td>\n",
       "      <td>knife</td>\n",
       "      <td>42.000000</td>\n",
       "      <td>M</td>\n",
       "      <td>White</td>\n",
       "      <td>Tulsa</td>\n",
       "      <td>OK</td>\n",
       "      <td>False</td>\n",
       "      <td>attack</td>\n",
       "      <td>Not fleeing</td>\n",
       "      <td>False</td>\n",
       "      <td>Sharp objects</td>\n",
       "    </tr>\n",
       "    <tr>\n",
       "      <th>3688</th>\n",
       "      <td>4368</td>\n",
       "      <td>Johnny Lee Burney</td>\n",
       "      <td>2019-01-10</td>\n",
       "      <td>shot</td>\n",
       "      <td>gun</td>\n",
       "      <td>70.000000</td>\n",
       "      <td>M</td>\n",
       "      <td>Black</td>\n",
       "      <td>Eclectic</td>\n",
       "      <td>AL</td>\n",
       "      <td>False</td>\n",
       "      <td>other</td>\n",
       "      <td>Not fleeing</td>\n",
       "      <td>False</td>\n",
       "      <td>Guns</td>\n",
       "    </tr>\n",
       "    <tr>\n",
       "      <th>3689</th>\n",
       "      <td>4374</td>\n",
       "      <td>Geoffrey Morris</td>\n",
       "      <td>2019-01-10</td>\n",
       "      <td>shot</td>\n",
       "      <td>gun and vehicle</td>\n",
       "      <td>29.000000</td>\n",
       "      <td>M</td>\n",
       "      <td>White</td>\n",
       "      <td>Wichita</td>\n",
       "      <td>KS</td>\n",
       "      <td>False</td>\n",
       "      <td>attack</td>\n",
       "      <td>Car</td>\n",
       "      <td>False</td>\n",
       "      <td>Multiple</td>\n",
       "    </tr>\n",
       "    <tr>\n",
       "      <th>3690</th>\n",
       "      <td>4366</td>\n",
       "      <td>Juston Landry</td>\n",
       "      <td>2019-01-11</td>\n",
       "      <td>shot</td>\n",
       "      <td>gun</td>\n",
       "      <td>26.000000</td>\n",
       "      <td>M</td>\n",
       "      <td>Black</td>\n",
       "      <td>Lake Charles</td>\n",
       "      <td>LA</td>\n",
       "      <td>False</td>\n",
       "      <td>other</td>\n",
       "      <td>Other</td>\n",
       "      <td>False</td>\n",
       "      <td>Guns</td>\n",
       "    </tr>\n",
       "    <tr>\n",
       "      <th>3691</th>\n",
       "      <td>4379</td>\n",
       "      <td>Treshun Symone Miller</td>\n",
       "      <td>2019-01-11</td>\n",
       "      <td>shot</td>\n",
       "      <td>gun</td>\n",
       "      <td>20.000000</td>\n",
       "      <td>M</td>\n",
       "      <td>Black</td>\n",
       "      <td>Arlington</td>\n",
       "      <td>TX</td>\n",
       "      <td>False</td>\n",
       "      <td>attack</td>\n",
       "      <td>Foot</td>\n",
       "      <td>False</td>\n",
       "      <td>Guns</td>\n",
       "    </tr>\n",
       "    <tr>\n",
       "      <th>3692</th>\n",
       "      <td>4381</td>\n",
       "      <td>Charles Frederick Landeros</td>\n",
       "      <td>2019-01-11</td>\n",
       "      <td>shot</td>\n",
       "      <td>gun</td>\n",
       "      <td>30.000000</td>\n",
       "      <td>M</td>\n",
       "      <td>Hispanic</td>\n",
       "      <td>Eugene</td>\n",
       "      <td>OR</td>\n",
       "      <td>False</td>\n",
       "      <td>attack</td>\n",
       "      <td>Not fleeing</td>\n",
       "      <td>True</td>\n",
       "      <td>Guns</td>\n",
       "    </tr>\n",
       "    <tr>\n",
       "      <th>...</th>\n",
       "      <td>...</td>\n",
       "      <td>...</td>\n",
       "      <td>...</td>\n",
       "      <td>...</td>\n",
       "      <td>...</td>\n",
       "      <td>...</td>\n",
       "      <td>...</td>\n",
       "      <td>...</td>\n",
       "      <td>...</td>\n",
       "      <td>...</td>\n",
       "      <td>...</td>\n",
       "      <td>...</td>\n",
       "      <td>...</td>\n",
       "      <td>...</td>\n",
       "      <td>...</td>\n",
       "    </tr>\n",
       "    <tr>\n",
       "      <th>4865</th>\n",
       "      <td>5844</td>\n",
       "      <td>Heba Momtaz Al-Azhari</td>\n",
       "      <td>2020-05-29</td>\n",
       "      <td>shot</td>\n",
       "      <td>knife</td>\n",
       "      <td>22.000000</td>\n",
       "      <td>F</td>\n",
       "      <td>Other</td>\n",
       "      <td>Temple Terrace</td>\n",
       "      <td>FL</td>\n",
       "      <td>True</td>\n",
       "      <td>attack</td>\n",
       "      <td>Not fleeing</td>\n",
       "      <td>False</td>\n",
       "      <td>Sharp objects</td>\n",
       "    </tr>\n",
       "    <tr>\n",
       "      <th>4866</th>\n",
       "      <td>5845</td>\n",
       "      <td>TK TK</td>\n",
       "      <td>2020-05-29</td>\n",
       "      <td>shot</td>\n",
       "      <td>toy weapon</td>\n",
       "      <td>37.117931</td>\n",
       "      <td>M</td>\n",
       "      <td>White</td>\n",
       "      <td>Lancaster</td>\n",
       "      <td>CA</td>\n",
       "      <td>False</td>\n",
       "      <td>attack</td>\n",
       "      <td>Other</td>\n",
       "      <td>False</td>\n",
       "      <td>Other unusual objects</td>\n",
       "    </tr>\n",
       "    <tr>\n",
       "      <th>4867</th>\n",
       "      <td>5848</td>\n",
       "      <td>TK TK</td>\n",
       "      <td>2020-05-29</td>\n",
       "      <td>shot</td>\n",
       "      <td>gun</td>\n",
       "      <td>32.000000</td>\n",
       "      <td>M</td>\n",
       "      <td>Asian</td>\n",
       "      <td>San Diego</td>\n",
       "      <td>CA</td>\n",
       "      <td>False</td>\n",
       "      <td>attack</td>\n",
       "      <td>Other</td>\n",
       "      <td>False</td>\n",
       "      <td>Guns</td>\n",
       "    </tr>\n",
       "    <tr>\n",
       "      <th>4868</th>\n",
       "      <td>5850</td>\n",
       "      <td>Momodou Lamin Sisay</td>\n",
       "      <td>2020-05-29</td>\n",
       "      <td>shot</td>\n",
       "      <td>gun</td>\n",
       "      <td>39.000000</td>\n",
       "      <td>M</td>\n",
       "      <td>Black</td>\n",
       "      <td>Snellville</td>\n",
       "      <td>GA</td>\n",
       "      <td>False</td>\n",
       "      <td>attack</td>\n",
       "      <td>Car</td>\n",
       "      <td>False</td>\n",
       "      <td>Guns</td>\n",
       "    </tr>\n",
       "    <tr>\n",
       "      <th>4869</th>\n",
       "      <td>5879</td>\n",
       "      <td>Jarvis Sullivan</td>\n",
       "      <td>2020-05-29</td>\n",
       "      <td>shot</td>\n",
       "      <td>vehicle</td>\n",
       "      <td>44.000000</td>\n",
       "      <td>M</td>\n",
       "      <td>Black</td>\n",
       "      <td>Yulee</td>\n",
       "      <td>FL</td>\n",
       "      <td>False</td>\n",
       "      <td>attack</td>\n",
       "      <td>Car</td>\n",
       "      <td>False</td>\n",
       "      <td>Vehicles</td>\n",
       "    </tr>\n",
       "    <tr>\n",
       "      <th>4870</th>\n",
       "      <td>5863</td>\n",
       "      <td>Derrick Thompson</td>\n",
       "      <td>2020-05-30</td>\n",
       "      <td>shot</td>\n",
       "      <td>gun</td>\n",
       "      <td>46.000000</td>\n",
       "      <td>M</td>\n",
       "      <td>Black</td>\n",
       "      <td>Fountain</td>\n",
       "      <td>FL</td>\n",
       "      <td>False</td>\n",
       "      <td>attack</td>\n",
       "      <td>Not fleeing</td>\n",
       "      <td>False</td>\n",
       "      <td>Guns</td>\n",
       "    </tr>\n",
       "    <tr>\n",
       "      <th>4871</th>\n",
       "      <td>5852</td>\n",
       "      <td>Israel Berry</td>\n",
       "      <td>2020-05-31</td>\n",
       "      <td>shot</td>\n",
       "      <td>unknown</td>\n",
       "      <td>49.000000</td>\n",
       "      <td>M</td>\n",
       "      <td>White</td>\n",
       "      <td>Portland</td>\n",
       "      <td>OR</td>\n",
       "      <td>False</td>\n",
       "      <td>undetermined</td>\n",
       "      <td>Other</td>\n",
       "      <td>False</td>\n",
       "      <td>Unknown</td>\n",
       "    </tr>\n",
       "    <tr>\n",
       "      <th>4872</th>\n",
       "      <td>5878</td>\n",
       "      <td>Thomas Sutherlin</td>\n",
       "      <td>2020-05-31</td>\n",
       "      <td>shot and Tasered</td>\n",
       "      <td>gun</td>\n",
       "      <td>32.000000</td>\n",
       "      <td>M</td>\n",
       "      <td>White</td>\n",
       "      <td>Watertown</td>\n",
       "      <td>WI</td>\n",
       "      <td>False</td>\n",
       "      <td>attack</td>\n",
       "      <td>Not fleeing</td>\n",
       "      <td>False</td>\n",
       "      <td>Guns</td>\n",
       "    </tr>\n",
       "    <tr>\n",
       "      <th>4873</th>\n",
       "      <td>5842</td>\n",
       "      <td>David McAtee</td>\n",
       "      <td>2020-06-01</td>\n",
       "      <td>shot</td>\n",
       "      <td>gun</td>\n",
       "      <td>53.000000</td>\n",
       "      <td>M</td>\n",
       "      <td>Black</td>\n",
       "      <td>Louisville</td>\n",
       "      <td>KY</td>\n",
       "      <td>False</td>\n",
       "      <td>attack</td>\n",
       "      <td>Other</td>\n",
       "      <td>True</td>\n",
       "      <td>Guns</td>\n",
       "    </tr>\n",
       "    <tr>\n",
       "      <th>4874</th>\n",
       "      <td>5866</td>\n",
       "      <td>Jorge Gomez</td>\n",
       "      <td>2020-06-01</td>\n",
       "      <td>shot</td>\n",
       "      <td>gun</td>\n",
       "      <td>25.000000</td>\n",
       "      <td>M</td>\n",
       "      <td>Hispanic</td>\n",
       "      <td>Las Vegas</td>\n",
       "      <td>NV</td>\n",
       "      <td>False</td>\n",
       "      <td>attack</td>\n",
       "      <td>Not fleeing</td>\n",
       "      <td>False</td>\n",
       "      <td>Guns</td>\n",
       "    </tr>\n",
       "    <tr>\n",
       "      <th>4875</th>\n",
       "      <td>5867</td>\n",
       "      <td>Ryan Emblem Moore</td>\n",
       "      <td>2020-06-01</td>\n",
       "      <td>shot</td>\n",
       "      <td>unknown</td>\n",
       "      <td>36.000000</td>\n",
       "      <td>M</td>\n",
       "      <td>White</td>\n",
       "      <td>Fayetteville</td>\n",
       "      <td>AR</td>\n",
       "      <td>False</td>\n",
       "      <td>undetermined</td>\n",
       "      <td>Not fleeing</td>\n",
       "      <td>False</td>\n",
       "      <td>Unknown</td>\n",
       "    </tr>\n",
       "    <tr>\n",
       "      <th>4876</th>\n",
       "      <td>5896</td>\n",
       "      <td>Sean Monterrosa</td>\n",
       "      <td>2020-06-02</td>\n",
       "      <td>shot</td>\n",
       "      <td>hammer</td>\n",
       "      <td>22.000000</td>\n",
       "      <td>M</td>\n",
       "      <td>Hispanic</td>\n",
       "      <td>Vallejo</td>\n",
       "      <td>CA</td>\n",
       "      <td>False</td>\n",
       "      <td>other</td>\n",
       "      <td>Not fleeing</td>\n",
       "      <td>False</td>\n",
       "      <td>Blunt instruments</td>\n",
       "    </tr>\n",
       "    <tr>\n",
       "      <th>4877</th>\n",
       "      <td>5897</td>\n",
       "      <td>Tyquarn Graves</td>\n",
       "      <td>2020-06-02</td>\n",
       "      <td>shot</td>\n",
       "      <td>gun</td>\n",
       "      <td>33.000000</td>\n",
       "      <td>M</td>\n",
       "      <td>Black</td>\n",
       "      <td>Brooklyn</td>\n",
       "      <td>NY</td>\n",
       "      <td>False</td>\n",
       "      <td>other</td>\n",
       "      <td>Not fleeing</td>\n",
       "      <td>True</td>\n",
       "      <td>Guns</td>\n",
       "    </tr>\n",
       "    <tr>\n",
       "      <th>4878</th>\n",
       "      <td>5898</td>\n",
       "      <td>Mary Lawrence</td>\n",
       "      <td>2020-06-03</td>\n",
       "      <td>shot</td>\n",
       "      <td>knife</td>\n",
       "      <td>39.000000</td>\n",
       "      <td>F</td>\n",
       "      <td>White</td>\n",
       "      <td>Poteau</td>\n",
       "      <td>OK</td>\n",
       "      <td>False</td>\n",
       "      <td>other</td>\n",
       "      <td>Not fleeing</td>\n",
       "      <td>False</td>\n",
       "      <td>Sharp objects</td>\n",
       "    </tr>\n",
       "    <tr>\n",
       "      <th>4879</th>\n",
       "      <td>5902</td>\n",
       "      <td>Gregory W. Hallback</td>\n",
       "      <td>2020-06-03</td>\n",
       "      <td>shot</td>\n",
       "      <td>gun</td>\n",
       "      <td>44.000000</td>\n",
       "      <td>M</td>\n",
       "      <td>White</td>\n",
       "      <td>Aiken</td>\n",
       "      <td>SC</td>\n",
       "      <td>False</td>\n",
       "      <td>attack</td>\n",
       "      <td>Not fleeing</td>\n",
       "      <td>False</td>\n",
       "      <td>Guns</td>\n",
       "    </tr>\n",
       "    <tr>\n",
       "      <th>4880</th>\n",
       "      <td>5904</td>\n",
       "      <td>Eric A. Galvan</td>\n",
       "      <td>2020-06-03</td>\n",
       "      <td>shot</td>\n",
       "      <td>gun</td>\n",
       "      <td>25.000000</td>\n",
       "      <td>M</td>\n",
       "      <td>Hispanic</td>\n",
       "      <td>Corpus Christi</td>\n",
       "      <td>TX</td>\n",
       "      <td>False</td>\n",
       "      <td>attack</td>\n",
       "      <td>Not fleeing</td>\n",
       "      <td>False</td>\n",
       "      <td>Guns</td>\n",
       "    </tr>\n",
       "    <tr>\n",
       "      <th>4881</th>\n",
       "      <td>5905</td>\n",
       "      <td>Scott Anderson Hutton</td>\n",
       "      <td>2020-06-03</td>\n",
       "      <td>shot</td>\n",
       "      <td>unknown</td>\n",
       "      <td>36.000000</td>\n",
       "      <td>M</td>\n",
       "      <td>White</td>\n",
       "      <td>Alexander</td>\n",
       "      <td>AR</td>\n",
       "      <td>False</td>\n",
       "      <td>undetermined</td>\n",
       "      <td>Not fleeing</td>\n",
       "      <td>False</td>\n",
       "      <td>Unknown</td>\n",
       "    </tr>\n",
       "    <tr>\n",
       "      <th>4882</th>\n",
       "      <td>5903</td>\n",
       "      <td>Benjamin Ballard</td>\n",
       "      <td>2020-06-05</td>\n",
       "      <td>shot</td>\n",
       "      <td>gun</td>\n",
       "      <td>42.000000</td>\n",
       "      <td>M</td>\n",
       "      <td>White</td>\n",
       "      <td>Mustang</td>\n",
       "      <td>OK</td>\n",
       "      <td>False</td>\n",
       "      <td>attack</td>\n",
       "      <td>Not fleeing</td>\n",
       "      <td>False</td>\n",
       "      <td>Guns</td>\n",
       "    </tr>\n",
       "    <tr>\n",
       "      <th>4883</th>\n",
       "      <td>5899</td>\n",
       "      <td>Kamal Flowers</td>\n",
       "      <td>2020-06-06</td>\n",
       "      <td>shot</td>\n",
       "      <td>gun</td>\n",
       "      <td>24.000000</td>\n",
       "      <td>M</td>\n",
       "      <td>Black</td>\n",
       "      <td>New Rochelle</td>\n",
       "      <td>NY</td>\n",
       "      <td>False</td>\n",
       "      <td>attack</td>\n",
       "      <td>Foot</td>\n",
       "      <td>False</td>\n",
       "      <td>Guns</td>\n",
       "    </tr>\n",
       "    <tr>\n",
       "      <th>4884</th>\n",
       "      <td>5900</td>\n",
       "      <td>Erik Salgado</td>\n",
       "      <td>2020-06-06</td>\n",
       "      <td>shot</td>\n",
       "      <td>unknown</td>\n",
       "      <td>22.000000</td>\n",
       "      <td>M</td>\n",
       "      <td>Hispanic</td>\n",
       "      <td>Oakland</td>\n",
       "      <td>CA</td>\n",
       "      <td>False</td>\n",
       "      <td>undetermined</td>\n",
       "      <td>Not fleeing</td>\n",
       "      <td>False</td>\n",
       "      <td>Unknown</td>\n",
       "    </tr>\n",
       "    <tr>\n",
       "      <th>4885</th>\n",
       "      <td>5908</td>\n",
       "      <td>Jarrid Hurst</td>\n",
       "      <td>2020-06-07</td>\n",
       "      <td>shot</td>\n",
       "      <td>knife</td>\n",
       "      <td>35.000000</td>\n",
       "      <td>M</td>\n",
       "      <td>White</td>\n",
       "      <td>Industry</td>\n",
       "      <td>CA</td>\n",
       "      <td>True</td>\n",
       "      <td>other</td>\n",
       "      <td>Not fleeing</td>\n",
       "      <td>False</td>\n",
       "      <td>Sharp objects</td>\n",
       "    </tr>\n",
       "    <tr>\n",
       "      <th>4886</th>\n",
       "      <td>5911</td>\n",
       "      <td>Lewis Ruffin</td>\n",
       "      <td>2020-06-09</td>\n",
       "      <td>shot</td>\n",
       "      <td>gun</td>\n",
       "      <td>38.000000</td>\n",
       "      <td>M</td>\n",
       "      <td>Black</td>\n",
       "      <td>Orlando</td>\n",
       "      <td>FL</td>\n",
       "      <td>False</td>\n",
       "      <td>attack</td>\n",
       "      <td>Other</td>\n",
       "      <td>False</td>\n",
       "      <td>Guns</td>\n",
       "    </tr>\n",
       "    <tr>\n",
       "      <th>4887</th>\n",
       "      <td>5913</td>\n",
       "      <td>Gregorio Cruz Vanloo</td>\n",
       "      <td>2020-06-11</td>\n",
       "      <td>shot</td>\n",
       "      <td>gun</td>\n",
       "      <td>28.000000</td>\n",
       "      <td>M</td>\n",
       "      <td>White</td>\n",
       "      <td>DeKalb County</td>\n",
       "      <td>TN</td>\n",
       "      <td>False</td>\n",
       "      <td>other</td>\n",
       "      <td>Other</td>\n",
       "      <td>False</td>\n",
       "      <td>Guns</td>\n",
       "    </tr>\n",
       "    <tr>\n",
       "      <th>4888</th>\n",
       "      <td>5914</td>\n",
       "      <td>Mason James Lira</td>\n",
       "      <td>2020-06-11</td>\n",
       "      <td>shot</td>\n",
       "      <td>gun</td>\n",
       "      <td>26.000000</td>\n",
       "      <td>M</td>\n",
       "      <td>White</td>\n",
       "      <td>Paso Robles</td>\n",
       "      <td>CA</td>\n",
       "      <td>True</td>\n",
       "      <td>attack</td>\n",
       "      <td>Foot</td>\n",
       "      <td>False</td>\n",
       "      <td>Guns</td>\n",
       "    </tr>\n",
       "    <tr>\n",
       "      <th>4889</th>\n",
       "      <td>5915</td>\n",
       "      <td>Michael Thomas</td>\n",
       "      <td>2020-06-11</td>\n",
       "      <td>shot</td>\n",
       "      <td>unknown</td>\n",
       "      <td>62.000000</td>\n",
       "      <td>M</td>\n",
       "      <td>Black</td>\n",
       "      <td>Lancaster</td>\n",
       "      <td>CA</td>\n",
       "      <td>False</td>\n",
       "      <td>undetermined</td>\n",
       "      <td>Not fleeing</td>\n",
       "      <td>False</td>\n",
       "      <td>Unknown</td>\n",
       "    </tr>\n",
       "    <tr>\n",
       "      <th>4890</th>\n",
       "      <td>5916</td>\n",
       "      <td>Rayshard Brooks</td>\n",
       "      <td>2020-06-12</td>\n",
       "      <td>shot</td>\n",
       "      <td>Taser</td>\n",
       "      <td>27.000000</td>\n",
       "      <td>M</td>\n",
       "      <td>Black</td>\n",
       "      <td>Atlanta</td>\n",
       "      <td>GA</td>\n",
       "      <td>False</td>\n",
       "      <td>attack</td>\n",
       "      <td>Foot</td>\n",
       "      <td>True</td>\n",
       "      <td>Electrical devices</td>\n",
       "    </tr>\n",
       "    <tr>\n",
       "      <th>4891</th>\n",
       "      <td>5925</td>\n",
       "      <td>Caine Van Pelt</td>\n",
       "      <td>2020-06-12</td>\n",
       "      <td>shot</td>\n",
       "      <td>gun</td>\n",
       "      <td>23.000000</td>\n",
       "      <td>M</td>\n",
       "      <td>Black</td>\n",
       "      <td>Crown Point</td>\n",
       "      <td>IN</td>\n",
       "      <td>False</td>\n",
       "      <td>attack</td>\n",
       "      <td>Car</td>\n",
       "      <td>False</td>\n",
       "      <td>Guns</td>\n",
       "    </tr>\n",
       "    <tr>\n",
       "      <th>4892</th>\n",
       "      <td>5918</td>\n",
       "      <td>Hannah Fizer</td>\n",
       "      <td>2020-06-13</td>\n",
       "      <td>shot</td>\n",
       "      <td>unarmed</td>\n",
       "      <td>25.000000</td>\n",
       "      <td>F</td>\n",
       "      <td>White</td>\n",
       "      <td>Sedalia</td>\n",
       "      <td>MO</td>\n",
       "      <td>False</td>\n",
       "      <td>other</td>\n",
       "      <td>Not fleeing</td>\n",
       "      <td>False</td>\n",
       "      <td>Unarmed</td>\n",
       "    </tr>\n",
       "    <tr>\n",
       "      <th>4893</th>\n",
       "      <td>5921</td>\n",
       "      <td>William Slyter</td>\n",
       "      <td>2020-06-13</td>\n",
       "      <td>shot</td>\n",
       "      <td>gun</td>\n",
       "      <td>22.000000</td>\n",
       "      <td>M</td>\n",
       "      <td>White</td>\n",
       "      <td>Kansas City</td>\n",
       "      <td>MO</td>\n",
       "      <td>False</td>\n",
       "      <td>other</td>\n",
       "      <td>Other</td>\n",
       "      <td>False</td>\n",
       "      <td>Guns</td>\n",
       "    </tr>\n",
       "    <tr>\n",
       "      <th>4894</th>\n",
       "      <td>5924</td>\n",
       "      <td>Nicholas Hirsh</td>\n",
       "      <td>2020-06-15</td>\n",
       "      <td>shot</td>\n",
       "      <td>gun</td>\n",
       "      <td>31.000000</td>\n",
       "      <td>M</td>\n",
       "      <td>White</td>\n",
       "      <td>Lawrence</td>\n",
       "      <td>KS</td>\n",
       "      <td>False</td>\n",
       "      <td>attack</td>\n",
       "      <td>Car</td>\n",
       "      <td>False</td>\n",
       "      <td>Guns</td>\n",
       "    </tr>\n",
       "  </tbody>\n",
       "</table>\n",
       "<p>1232 rows × 15 columns</p>\n",
       "</div>"
      ],
      "text/plain": [
       "        id                        name        date   manner_of_death  \\\n",
       "3663  4334         Dylan Michael Smith  2019-01-01              shot   \n",
       "3664  4504      Brandon Lovell Webster  2019-01-01              shot   \n",
       "3665  4342           Matthew Burroughs  2019-01-02              shot   \n",
       "3666  4343             Abdoulaye Thiam  2019-01-02              shot   \n",
       "3667  4345        Arron Thomas Lambert  2019-01-02              shot   \n",
       "3668  4344               Samuel Garcia  2019-01-03              shot   \n",
       "3669  4347                Robert Myers  2019-01-03              shot   \n",
       "3670  4348              Joseph Roberts  2019-01-03              shot   \n",
       "3671  4349    Abiel Innis De Joel Rios  2019-01-03              shot   \n",
       "3672  4350            Jae Wesley Hardy  2019-01-03              shot   \n",
       "3673  4505       Eric David Sauerhagen  2019-01-03              shot   \n",
       "3674  4367             Zonell Williams  2019-01-04              shot   \n",
       "3675  4506          Jeremy Dean Duncan  2019-01-04              shot   \n",
       "3676  4507        John Richard Camacho  2019-01-04              shot   \n",
       "3677  4508       Lawrence Thompson III  2019-01-04              shot   \n",
       "3678  4355            Oliver Hernandez  2019-01-05              shot   \n",
       "3679  4357             Adolfo Gonzalez  2019-01-05              shot   \n",
       "3680  4360      David John Engebretson  2019-01-05              shot   \n",
       "3681  4361               Shaun Kennedy  2019-01-05              shot   \n",
       "3682  4352          Kevin Shawn Hanson  2019-01-06              shot   \n",
       "3683  4353             Andre C. Gladen  2019-01-06  shot and Tasered   \n",
       "3684  5409                   Nil Houer  2019-01-06              shot   \n",
       "3685  4351         Miguel Barraza-Lugo  2019-01-07              shot   \n",
       "3686  4362                 David Novak  2019-01-07              shot   \n",
       "3687  4510         Jeremy Dale Edmonds  2019-01-07              shot   \n",
       "3688  4368           Johnny Lee Burney  2019-01-10              shot   \n",
       "3689  4374             Geoffrey Morris  2019-01-10              shot   \n",
       "3690  4366               Juston Landry  2019-01-11              shot   \n",
       "3691  4379       Treshun Symone Miller  2019-01-11              shot   \n",
       "3692  4381  Charles Frederick Landeros  2019-01-11              shot   \n",
       "...    ...                         ...         ...               ...   \n",
       "4865  5844       Heba Momtaz Al-Azhari  2020-05-29              shot   \n",
       "4866  5845                       TK TK  2020-05-29              shot   \n",
       "4867  5848                       TK TK  2020-05-29              shot   \n",
       "4868  5850         Momodou Lamin Sisay  2020-05-29              shot   \n",
       "4869  5879             Jarvis Sullivan  2020-05-29              shot   \n",
       "4870  5863            Derrick Thompson  2020-05-30              shot   \n",
       "4871  5852                Israel Berry  2020-05-31              shot   \n",
       "4872  5878            Thomas Sutherlin  2020-05-31  shot and Tasered   \n",
       "4873  5842                David McAtee  2020-06-01              shot   \n",
       "4874  5866                 Jorge Gomez  2020-06-01              shot   \n",
       "4875  5867           Ryan Emblem Moore  2020-06-01              shot   \n",
       "4876  5896             Sean Monterrosa  2020-06-02              shot   \n",
       "4877  5897              Tyquarn Graves  2020-06-02              shot   \n",
       "4878  5898               Mary Lawrence  2020-06-03              shot   \n",
       "4879  5902         Gregory W. Hallback  2020-06-03              shot   \n",
       "4880  5904              Eric A. Galvan  2020-06-03              shot   \n",
       "4881  5905       Scott Anderson Hutton  2020-06-03              shot   \n",
       "4882  5903            Benjamin Ballard  2020-06-05              shot   \n",
       "4883  5899               Kamal Flowers  2020-06-06              shot   \n",
       "4884  5900                Erik Salgado  2020-06-06              shot   \n",
       "4885  5908                Jarrid Hurst  2020-06-07              shot   \n",
       "4886  5911                Lewis Ruffin  2020-06-09              shot   \n",
       "4887  5913        Gregorio Cruz Vanloo  2020-06-11              shot   \n",
       "4888  5914            Mason James Lira  2020-06-11              shot   \n",
       "4889  5915              Michael Thomas  2020-06-11              shot   \n",
       "4890  5916             Rayshard Brooks  2020-06-12              shot   \n",
       "4891  5925              Caine Van Pelt  2020-06-12              shot   \n",
       "4892  5918                Hannah Fizer  2020-06-13              shot   \n",
       "4893  5921              William Slyter  2020-06-13              shot   \n",
       "4894  5924              Nicholas Hirsh  2020-06-15              shot   \n",
       "\n",
       "                armed        age gender      race             city state  \\\n",
       "3663              gun  26.000000      M     White  Davidson County    NC   \n",
       "3664          vehicle  28.000000      M     Black        Shallotte    NC   \n",
       "3665          vehicle  35.000000      M     Black            Niles    OH   \n",
       "3666            knife  20.000000      M     Black       Whitehaven    TN   \n",
       "3667            Taser  33.000000      M     White      San Antonio    TX   \n",
       "3668              gun  39.000000      M  Hispanic      San Antonio    TX   \n",
       "3669              gun  63.000000      M     White        Greenport    NY   \n",
       "3670            knife  27.000000      M     White       Albert Lea    MN   \n",
       "3671              gun  33.000000      M  Hispanic          Visalia    CA   \n",
       "3672              gun  27.000000      M     Black        Millbrook    AL   \n",
       "3673              gun  31.000000      M     White          Bozeman    MT   \n",
       "3674              gun  33.000000      M     Black            Treme    LA   \n",
       "3675          vehicle  39.000000      M     White         Amarillo    TX   \n",
       "3676       toy weapon  27.000000      M     White       San Marcos    TX   \n",
       "3677              gun  32.000000      M     Black          Houston    TX   \n",
       "3678               ax  29.000000      M  Hispanic           Fresno    CA   \n",
       "3679              gun  28.000000      M  Hispanic      Lemon Grove    CA   \n",
       "3680              gun  50.000000      M     White        Milwaukie    OR   \n",
       "3681              gun  55.000000      M     White      Santa Clara    CA   \n",
       "3682              gun  42.000000      M     Black        Hurricane    WV   \n",
       "3683            knife  36.000000      M     Black         Portland    OR   \n",
       "3684              gun  38.000000      M     Asian          Houston    TX   \n",
       "3685              gun  38.000000      M  Hispanic             Kent    WA   \n",
       "3686     baseball bat  35.000000      M     White          Spokane    WA   \n",
       "3687            knife  42.000000      M     White            Tulsa    OK   \n",
       "3688              gun  70.000000      M     Black         Eclectic    AL   \n",
       "3689  gun and vehicle  29.000000      M     White          Wichita    KS   \n",
       "3690              gun  26.000000      M     Black     Lake Charles    LA   \n",
       "3691              gun  20.000000      M     Black        Arlington    TX   \n",
       "3692              gun  30.000000      M  Hispanic           Eugene    OR   \n",
       "...               ...        ...    ...       ...              ...   ...   \n",
       "4865            knife  22.000000      F     Other   Temple Terrace    FL   \n",
       "4866       toy weapon  37.117931      M     White        Lancaster    CA   \n",
       "4867              gun  32.000000      M     Asian        San Diego    CA   \n",
       "4868              gun  39.000000      M     Black       Snellville    GA   \n",
       "4869          vehicle  44.000000      M     Black            Yulee    FL   \n",
       "4870              gun  46.000000      M     Black         Fountain    FL   \n",
       "4871          unknown  49.000000      M     White         Portland    OR   \n",
       "4872              gun  32.000000      M     White        Watertown    WI   \n",
       "4873              gun  53.000000      M     Black       Louisville    KY   \n",
       "4874              gun  25.000000      M  Hispanic        Las Vegas    NV   \n",
       "4875          unknown  36.000000      M     White     Fayetteville    AR   \n",
       "4876           hammer  22.000000      M  Hispanic          Vallejo    CA   \n",
       "4877              gun  33.000000      M     Black         Brooklyn    NY   \n",
       "4878            knife  39.000000      F     White           Poteau    OK   \n",
       "4879              gun  44.000000      M     White            Aiken    SC   \n",
       "4880              gun  25.000000      M  Hispanic   Corpus Christi    TX   \n",
       "4881          unknown  36.000000      M     White        Alexander    AR   \n",
       "4882              gun  42.000000      M     White          Mustang    OK   \n",
       "4883              gun  24.000000      M     Black     New Rochelle    NY   \n",
       "4884          unknown  22.000000      M  Hispanic          Oakland    CA   \n",
       "4885            knife  35.000000      M     White         Industry    CA   \n",
       "4886              gun  38.000000      M     Black          Orlando    FL   \n",
       "4887              gun  28.000000      M     White    DeKalb County    TN   \n",
       "4888              gun  26.000000      M     White      Paso Robles    CA   \n",
       "4889          unknown  62.000000      M     Black        Lancaster    CA   \n",
       "4890            Taser  27.000000      M     Black          Atlanta    GA   \n",
       "4891              gun  23.000000      M     Black      Crown Point    IN   \n",
       "4892          unarmed  25.000000      F     White          Sedalia    MO   \n",
       "4893              gun  22.000000      M     White      Kansas City    MO   \n",
       "4894              gun  31.000000      M     White         Lawrence    KS   \n",
       "\n",
       "      signs_of_mental_illness  threat_level         flee  body_camera  \\\n",
       "3663                    False        attack         Foot        False   \n",
       "3664                    False         other          Car        False   \n",
       "3665                    False        attack         Foot        False   \n",
       "3666                    False         other  Not fleeing         True   \n",
       "3667                    False        attack        Other        False   \n",
       "3668                    False        attack        Other        False   \n",
       "3669                     True        attack  Not fleeing        False   \n",
       "3670                     True        attack        Other        False   \n",
       "3671                     True        attack  Not fleeing        False   \n",
       "3672                    False         other          Car        False   \n",
       "3673                    False         other  Not fleeing        False   \n",
       "3674                     True        attack  Not fleeing         True   \n",
       "3675                    False        attack          Car        False   \n",
       "3676                    False         other          Car        False   \n",
       "3677                     True        attack  Not fleeing        False   \n",
       "3678                    False         other  Not fleeing        False   \n",
       "3679                    False         other  Not fleeing        False   \n",
       "3680                    False        attack  Not fleeing        False   \n",
       "3681                    False        attack  Not fleeing        False   \n",
       "3682                    False        attack          Car        False   \n",
       "3683                     True         other  Not fleeing        False   \n",
       "3684                    False         other  Not fleeing        False   \n",
       "3685                    False        attack          Car        False   \n",
       "3686                    False        attack  Not fleeing         True   \n",
       "3687                    False        attack  Not fleeing        False   \n",
       "3688                    False         other  Not fleeing        False   \n",
       "3689                    False        attack          Car        False   \n",
       "3690                    False         other        Other        False   \n",
       "3691                    False        attack         Foot        False   \n",
       "3692                    False        attack  Not fleeing         True   \n",
       "...                       ...           ...          ...          ...   \n",
       "4865                     True        attack  Not fleeing        False   \n",
       "4866                    False        attack        Other        False   \n",
       "4867                    False        attack        Other        False   \n",
       "4868                    False        attack          Car        False   \n",
       "4869                    False        attack          Car        False   \n",
       "4870                    False        attack  Not fleeing        False   \n",
       "4871                    False  undetermined        Other        False   \n",
       "4872                    False        attack  Not fleeing        False   \n",
       "4873                    False        attack        Other         True   \n",
       "4874                    False        attack  Not fleeing        False   \n",
       "4875                    False  undetermined  Not fleeing        False   \n",
       "4876                    False         other  Not fleeing        False   \n",
       "4877                    False         other  Not fleeing         True   \n",
       "4878                    False         other  Not fleeing        False   \n",
       "4879                    False        attack  Not fleeing        False   \n",
       "4880                    False        attack  Not fleeing        False   \n",
       "4881                    False  undetermined  Not fleeing        False   \n",
       "4882                    False        attack  Not fleeing        False   \n",
       "4883                    False        attack         Foot        False   \n",
       "4884                    False  undetermined  Not fleeing        False   \n",
       "4885                     True         other  Not fleeing        False   \n",
       "4886                    False        attack        Other        False   \n",
       "4887                    False         other        Other        False   \n",
       "4888                     True        attack         Foot        False   \n",
       "4889                    False  undetermined  Not fleeing        False   \n",
       "4890                    False        attack         Foot         True   \n",
       "4891                    False        attack          Car        False   \n",
       "4892                    False         other  Not fleeing        False   \n",
       "4893                    False         other        Other        False   \n",
       "4894                    False        attack          Car        False   \n",
       "\n",
       "              arms_category  \n",
       "3663                   Guns  \n",
       "3664               Vehicles  \n",
       "3665               Vehicles  \n",
       "3666          Sharp objects  \n",
       "3667     Electrical devices  \n",
       "3668                   Guns  \n",
       "3669                   Guns  \n",
       "3670          Sharp objects  \n",
       "3671                   Guns  \n",
       "3672                   Guns  \n",
       "3673                   Guns  \n",
       "3674                   Guns  \n",
       "3675               Vehicles  \n",
       "3676  Other unusual objects  \n",
       "3677                   Guns  \n",
       "3678      Blunt instruments  \n",
       "3679                   Guns  \n",
       "3680                   Guns  \n",
       "3681                   Guns  \n",
       "3682                   Guns  \n",
       "3683          Sharp objects  \n",
       "3684                   Guns  \n",
       "3685                   Guns  \n",
       "3686      Blunt instruments  \n",
       "3687          Sharp objects  \n",
       "3688                   Guns  \n",
       "3689               Multiple  \n",
       "3690                   Guns  \n",
       "3691                   Guns  \n",
       "3692                   Guns  \n",
       "...                     ...  \n",
       "4865          Sharp objects  \n",
       "4866  Other unusual objects  \n",
       "4867                   Guns  \n",
       "4868                   Guns  \n",
       "4869               Vehicles  \n",
       "4870                   Guns  \n",
       "4871                Unknown  \n",
       "4872                   Guns  \n",
       "4873                   Guns  \n",
       "4874                   Guns  \n",
       "4875                Unknown  \n",
       "4876      Blunt instruments  \n",
       "4877                   Guns  \n",
       "4878          Sharp objects  \n",
       "4879                   Guns  \n",
       "4880                   Guns  \n",
       "4881                Unknown  \n",
       "4882                   Guns  \n",
       "4883                   Guns  \n",
       "4884                Unknown  \n",
       "4885          Sharp objects  \n",
       "4886                   Guns  \n",
       "4887                   Guns  \n",
       "4888                   Guns  \n",
       "4889                Unknown  \n",
       "4890     Electrical devices  \n",
       "4891                   Guns  \n",
       "4892                Unarmed  \n",
       "4893                   Guns  \n",
       "4894                   Guns  \n",
       "\n",
       "[1232 rows x 15 columns]"
      ]
     },
     "execution_count": 145,
     "metadata": {},
     "output_type": "execute_result"
    }
   ],
   "source": [
    "dat = usshooting[(usshooting['date']<'2021') &( usshooting['date']>'2019')]\n",
    "#print(dat['gender'=='M'].count())\n",
    "dat"
   ]
  },
  {
   "cell_type": "markdown",
   "metadata": {},
   "source": [
    "## Python Data Science Toolbox (Part 1) "
   ]
  },
  {
   "cell_type": "code",
   "execution_count": null,
   "metadata": {},
   "outputs": [],
   "source": []
  },
  {
   "cell_type": "markdown",
   "metadata": {},
   "source": [
    "## Python Data Science Toolbox (Part 2) "
   ]
  },
  {
   "cell_type": "code",
   "execution_count": null,
   "metadata": {},
   "outputs": [],
   "source": []
  }
 ],
 "metadata": {
  "kernelspec": {
   "display_name": "Python 3",
   "language": "python",
   "name": "python3"
  },
  "language_info": {
   "codemirror_mode": {
    "name": "ipython",
    "version": 3
   },
   "file_extension": ".py",
   "mimetype": "text/x-python",
   "name": "python",
   "nbconvert_exporter": "python",
   "pygments_lexer": "ipython3",
   "version": "3.7.3"
  }
 },
 "nbformat": 4,
 "nbformat_minor": 2
}
