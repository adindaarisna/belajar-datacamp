{
 "cells": [
  {
   "cell_type": "markdown",
   "metadata": {
    "dc": {
     "key": "4"
    },
    "deletable": false,
    "editable": false,
    "run_control": {
     "frozen": true
    },
    "tags": [
     "context"
    ]
   },
   "source": [
    "## 1. Google Play Store apps and reviews\n",
    "<p>Mobile apps are everywhere. They are easy to create and can be lucrative. Because of these two factors, more and more apps are being developed. In this notebook, we will do a comprehensive analysis of the Android app market by comparing over ten thousand apps in Google Play across different categories. We'll look for insights in the data to devise strategies to drive growth and retention.</p>\n",
    "<p><img src=\"https://assets.datacamp.com/production/project_619/img/google_play_store.png\" alt=\"Google Play logo\"></p>\n",
    "<p>Let's take a look at the data, which consists of two files:</p>\n",
    "<ul>\n",
    "<li><code>apps.csv</code>: contains all the details of the applications on Google Play. There are 13 features that describe a given app.</li>\n",
    "<li><code>user_reviews.csv</code>: contains 100 reviews for each app, <a href=\"https://www.androidpolice.com/2019/01/21/google-play-stores-redesigned-ratings-and-reviews-section-lets-you-easily-filter-by-star-rating/\">most helpful first</a>. The text in each review has been pre-processed and attributed with three new features: Sentiment (Positive, Negative or Neutral), Sentiment Polarity and Sentiment Subjectivity.</li>\n",
    "</ul>"
   ]
  },
  {
   "cell_type": "code",
   "execution_count": 2,
   "metadata": {
    "dc": {
     "key": "4"
    },
    "tags": [
     "sample_code"
    ]
   },
   "outputs": [
    {
     "name": "stdout",
     "output_type": "stream",
     "text": [
      "Total number of apps in the dataset =        Unnamed: 0                                                App  \\\n",
      "0              0     Photo Editor & Candy Camera & Grid & ScrapBook   \n",
      "1              1                                Coloring book moana   \n",
      "2              2  U Launcher Lite – FREE Live Cool Themes, Hide ...   \n",
      "3              3                              Sketch - Draw & Paint   \n",
      "4              4              Pixel Draw - Number Art Coloring Book   \n",
      "5              5                         Paper flowers instructions   \n",
      "6              6            Smoke Effect Photo Maker - Smoke Editor   \n",
      "7              7                                   Infinite Painter   \n",
      "8              8                               Garden Coloring Book   \n",
      "9              9                      Kids Paint Free - Drawing Fun   \n",
      "10            10                            Text on Photo - Fonteee   \n",
      "11            11            Name Art Photo Editor - Focus n Filters   \n",
      "12            12                     Tattoo Name On My Photo Editor   \n",
      "13            13                              Mandala Coloring Book   \n",
      "14            14    3D Color Pixel by Number - Sandbox Art Coloring   \n",
      "15            15                    Learn To Draw Kawaii Characters   \n",
      "16            16       Photo Designer - Write your name with shapes   \n",
      "17            17                           350 Diy Room Decor Ideas   \n",
      "18            18                      FlipaClip - Cartoon animation   \n",
      "19            19                                       ibis Paint X   \n",
      "20            20                        Logo Maker - Small Business   \n",
      "21            21          Boys Photo Editor - Six Pack & Men's Suit   \n",
      "22            22            Superheroes Wallpapers | 4K Backgrounds   \n",
      "23            23                             Mcqueen Coloring pages   \n",
      "24            24                        HD Mickey Minnie Wallpapers   \n",
      "25            25                         Harley Quinn wallpapers HD   \n",
      "26            26                      Colorfit - Drawing & Coloring   \n",
      "27            27                              Animated Photo Editor   \n",
      "28            28                              Pencil Sketch Drawing   \n",
      "29            29                    Easy Realistic Drawing Tutorial   \n",
      "...          ...                                                ...   \n",
      "9629       10811                                        FR Plus 1.6   \n",
      "9630       10812                                      Fr Agnel Pune   \n",
      "9631       10813                                     DICT.fr Mobile   \n",
      "9632       10814                                FR: My Secret Pets!   \n",
      "9633       10815                          Golden Dictionary (FR-AR)   \n",
      "9634       10816                                 FieldBi FR Offline   \n",
      "9635       10817                               HTC Sense Input - FR   \n",
      "9636       10818                               Gold Quote - Gold.fr   \n",
      "9637       10819                                          Fanfic-FR   \n",
      "9638       10820                                    Fr. Daoud Lamei   \n",
      "9639       10821                                            Poop FR   \n",
      "9640       10822                                          PLMGSS FR   \n",
      "9641       10823                                       List iptv FR   \n",
      "9642       10824                                          Cardio-FR   \n",
      "9643       10825                                 Naruto & Boruto FR   \n",
      "9644       10826          Frim: get new friends on local chat rooms   \n",
      "9645       10827                                 Fr Agnel Ambarnath   \n",
      "9646       10828                            Manga-FR - Anime Vostfr   \n",
      "9647       10829                     Bulgarian French Dictionary Fr   \n",
      "9648       10830                                  News Minecraft.fr   \n",
      "9649       10831                           payermonstationnement.fr   \n",
      "9650       10832                                           FR Tides   \n",
      "9651       10833                                        Chemin (fr)   \n",
      "9652       10834                                      FR Calculator   \n",
      "9653       10835                                           FR Forms   \n",
      "9654       10836                                   Sya9a Maroc - FR   \n",
      "9655       10837                   Fr. Mike Schmitz Audio Teachings   \n",
      "9656       10838                             Parkinson Exercices FR   \n",
      "9657       10839                      The SCP Foundation DB fr nn5n   \n",
      "9658       10840      iHoroscope - 2018 Daily Horoscope & Astrology   \n",
      "\n",
      "                 Category  Rating  Reviews  Size     Installs  Type Price  \\\n",
      "0          ART_AND_DESIGN     4.1      159  19.0      10,000+  Free     0   \n",
      "1          ART_AND_DESIGN     3.9      967  14.0     500,000+  Free     0   \n",
      "2          ART_AND_DESIGN     4.7    87510   8.7   5,000,000+  Free     0   \n",
      "3          ART_AND_DESIGN     4.5   215644  25.0  50,000,000+  Free     0   \n",
      "4          ART_AND_DESIGN     4.3      967   2.8     100,000+  Free     0   \n",
      "5          ART_AND_DESIGN     4.4      167   5.6      50,000+  Free     0   \n",
      "6          ART_AND_DESIGN     3.8      178  19.0      50,000+  Free     0   \n",
      "7          ART_AND_DESIGN     4.1    36815  29.0   1,000,000+  Free     0   \n",
      "8          ART_AND_DESIGN     4.4    13791  33.0   1,000,000+  Free     0   \n",
      "9          ART_AND_DESIGN     4.7      121   3.1      10,000+  Free     0   \n",
      "10         ART_AND_DESIGN     4.4    13880  28.0   1,000,000+  Free     0   \n",
      "11         ART_AND_DESIGN     4.4     8788  12.0   1,000,000+  Free     0   \n",
      "12         ART_AND_DESIGN     4.2    44829  20.0  10,000,000+  Free     0   \n",
      "13         ART_AND_DESIGN     4.6     4326  21.0     100,000+  Free     0   \n",
      "14         ART_AND_DESIGN     4.4     1518  37.0     100,000+  Free     0   \n",
      "15         ART_AND_DESIGN     3.2       55   2.7       5,000+  Free     0   \n",
      "16         ART_AND_DESIGN     4.7     3632   5.5     500,000+  Free     0   \n",
      "17         ART_AND_DESIGN     4.5       27  17.0      10,000+  Free     0   \n",
      "18         ART_AND_DESIGN     4.3   194216  39.0   5,000,000+  Free     0   \n",
      "19         ART_AND_DESIGN     4.6   224399  31.0  10,000,000+  Free     0   \n",
      "20         ART_AND_DESIGN     4.0      450  14.0     100,000+  Free     0   \n",
      "21         ART_AND_DESIGN     4.1      654  12.0     100,000+  Free     0   \n",
      "22         ART_AND_DESIGN     4.7     7699   4.2     500,000+  Free     0   \n",
      "23         ART_AND_DESIGN     NaN       61   7.0     100,000+  Free     0   \n",
      "24         ART_AND_DESIGN     4.7      118  23.0      50,000+  Free     0   \n",
      "25         ART_AND_DESIGN     4.8      192   6.0      10,000+  Free     0   \n",
      "26         ART_AND_DESIGN     4.7    20260  25.0     500,000+  Free     0   \n",
      "27         ART_AND_DESIGN     4.1      203   6.1     100,000+  Free     0   \n",
      "28         ART_AND_DESIGN     3.9      136   4.6      10,000+  Free     0   \n",
      "29         ART_AND_DESIGN     4.1      223   4.2     100,000+  Free     0   \n",
      "...                   ...     ...      ...   ...          ...   ...   ...   \n",
      "9629    AUTO_AND_VEHICLES     NaN        4   3.9         100+  Free     0   \n",
      "9630               FAMILY     4.1       80  13.0       1,000+  Free     0   \n",
      "9631             BUSINESS     NaN       20   2.7      10,000+  Free     0   \n",
      "9632               FAMILY     4.0      785  31.0      50,000+  Free     0   \n",
      "9633  BOOKS_AND_REFERENCE     4.2     5775   4.9     500,000+  Free     0   \n",
      "9634             BUSINESS     NaN        2   6.8         100+  Free     0   \n",
      "9635                TOOLS     4.0      885   8.0     100,000+  Free     0   \n",
      "9636              FINANCE     NaN       96   1.5      10,000+  Free     0   \n",
      "9637  BOOKS_AND_REFERENCE     3.3       52   3.6       5,000+  Free     0   \n",
      "9638               FAMILY     5.0       22   8.6       1,000+  Free     0   \n",
      "9639               FAMILY     NaN        6   2.5          50+  Free     0   \n",
      "9640         PRODUCTIVITY     NaN        0   3.1          10+  Free     0   \n",
      "9641        VIDEO_PLAYERS     NaN        1   2.9         100+  Free     0   \n",
      "9642              MEDICAL     NaN       67  82.0      10,000+  Free     0   \n",
      "9643               SOCIAL     NaN        7   7.7         100+  Free     0   \n",
      "9644               SOCIAL     4.0    88486   NaN   5,000,000+  Free     0   \n",
      "9645               FAMILY     4.2      117  13.0       5,000+  Free     0   \n",
      "9646               COMICS     3.4      291  13.0      10,000+  Free     0   \n",
      "9647  BOOKS_AND_REFERENCE     4.6      603   7.4      10,000+  Free     0   \n",
      "9648   NEWS_AND_MAGAZINES     3.8      881   2.3     100,000+  Free     0   \n",
      "9649  MAPS_AND_NAVIGATION     NaN       38   9.8       5,000+  Free     0   \n",
      "9650              WEATHER     3.8     1195   0.6     100,000+  Free     0   \n",
      "9651  BOOKS_AND_REFERENCE     4.8       44   0.6       1,000+  Free     0   \n",
      "9652               FAMILY     4.0        7   2.6         500+  Free     0   \n",
      "9653             BUSINESS     NaN        0   9.6          10+  Free     0   \n",
      "9654               FAMILY     4.5       38  53.0       5,000+  Free     0   \n",
      "9655               FAMILY     5.0        4   3.6         100+  Free     0   \n",
      "9656              MEDICAL     NaN        3   9.5       1,000+  Free     0   \n",
      "9657  BOOKS_AND_REFERENCE     4.5      114   NaN       1,000+  Free     0   \n",
      "9658            LIFESTYLE     4.5   398307  19.0  10,000,000+  Free     0   \n",
      "\n",
      "     Content Rating                           Genres        Last Updated  \\\n",
      "0          Everyone                     Art & Design     January 7, 2018   \n",
      "1          Everyone        Art & Design;Pretend Play    January 15, 2018   \n",
      "2          Everyone                     Art & Design      August 1, 2018   \n",
      "3              Teen                     Art & Design        June 8, 2018   \n",
      "4          Everyone          Art & Design;Creativity       June 20, 2018   \n",
      "5          Everyone                     Art & Design      March 26, 2017   \n",
      "6          Everyone                     Art & Design      April 26, 2018   \n",
      "7          Everyone                     Art & Design       June 14, 2018   \n",
      "8          Everyone                     Art & Design  September 20, 2017   \n",
      "9          Everyone          Art & Design;Creativity        July 3, 2018   \n",
      "10         Everyone                     Art & Design    October 27, 2017   \n",
      "11         Everyone                     Art & Design       July 31, 2018   \n",
      "12             Teen                     Art & Design       April 2, 2018   \n",
      "13         Everyone                     Art & Design       June 26, 2018   \n",
      "14         Everyone                     Art & Design      August 3, 2018   \n",
      "15         Everyone                     Art & Design        June 6, 2018   \n",
      "16         Everyone                     Art & Design       July 31, 2018   \n",
      "17         Everyone                     Art & Design    November 7, 2017   \n",
      "18         Everyone                     Art & Design      August 3, 2018   \n",
      "19         Everyone                     Art & Design       July 30, 2018   \n",
      "20         Everyone                     Art & Design      April 20, 2018   \n",
      "21         Everyone                     Art & Design      March 20, 2018   \n",
      "22     Everyone 10+                     Art & Design       July 12, 2018   \n",
      "23         Everyone  Art & Design;Action & Adventure       March 7, 2018   \n",
      "24         Everyone                     Art & Design        July 7, 2018   \n",
      "25         Everyone                     Art & Design      April 25, 2018   \n",
      "26         Everyone          Art & Design;Creativity    October 11, 2017   \n",
      "27         Everyone                     Art & Design      March 21, 2018   \n",
      "28         Everyone                     Art & Design       July 12, 2018   \n",
      "29         Everyone                     Art & Design     August 22, 2017   \n",
      "...             ...                              ...                 ...   \n",
      "9629       Everyone                  Auto & Vehicles       July 24, 2018   \n",
      "9630       Everyone                        Education       June 13, 2018   \n",
      "9631       Everyone                         Business       July 17, 2018   \n",
      "9632           Teen                    Entertainment        June 3, 2015   \n",
      "9633       Everyone                Books & Reference       July 19, 2018   \n",
      "9634       Everyone                         Business      August 6, 2018   \n",
      "9635       Everyone                            Tools    October 30, 2015   \n",
      "9636       Everyone                          Finance        May 19, 2016   \n",
      "9637           Teen                Books & Reference      August 5, 2017   \n",
      "9638           Teen                        Education       June 27, 2018   \n",
      "9639       Everyone                    Entertainment        May 29, 2018   \n",
      "9640       Everyone                     Productivity    December 1, 2017   \n",
      "9641       Everyone          Video Players & Editors      April 22, 2018   \n",
      "9642       Everyone                          Medical       July 31, 2018   \n",
      "9643           Teen                           Social    February 2, 2018   \n",
      "9644     Mature 17+                           Social      March 23, 2018   \n",
      "9645       Everyone                        Education       June 13, 2018   \n",
      "9646       Everyone                           Comics        May 15, 2017   \n",
      "9647       Everyone                Books & Reference       June 19, 2016   \n",
      "9648       Everyone                 News & Magazines    January 20, 2014   \n",
      "9649       Everyone                Maps & Navigation       June 13, 2018   \n",
      "9650       Everyone                          Weather   February 16, 2014   \n",
      "9651       Everyone                Books & Reference      March 23, 2014   \n",
      "9652       Everyone                        Education       June 18, 2017   \n",
      "9653       Everyone                         Business  September 29, 2016   \n",
      "9654       Everyone                        Education       July 25, 2017   \n",
      "9655       Everyone                        Education        July 6, 2018   \n",
      "9656       Everyone                          Medical    January 20, 2017   \n",
      "9657     Mature 17+                Books & Reference    January 19, 2015   \n",
      "9658       Everyone                        Lifestyle       July 25, 2018   \n",
      "\n",
      "             Current Ver         Android Ver  \n",
      "0                  1.0.0        4.0.3 and up  \n",
      "1                  2.0.0        4.0.3 and up  \n",
      "2                  1.2.4        4.0.3 and up  \n",
      "3     Varies with device          4.2 and up  \n",
      "4                    1.1          4.4 and up  \n",
      "5                      1          2.3 and up  \n",
      "6                    1.1        4.0.3 and up  \n",
      "7               6.1.61.1          4.2 and up  \n",
      "8                  2.9.2          3.0 and up  \n",
      "9                    2.8        4.0.3 and up  \n",
      "10                 1.0.4          4.1 and up  \n",
      "11                1.0.15          4.0 and up  \n",
      "12                   3.8          4.1 and up  \n",
      "13                 1.0.4          4.4 and up  \n",
      "14                 1.2.3          2.3 and up  \n",
      "15                   NaN          4.2 and up  \n",
      "16                   3.1          4.1 and up  \n",
      "17                     1          2.3 and up  \n",
      "18                 2.2.5        4.0.3 and up  \n",
      "19                 5.5.4          4.1 and up  \n",
      "20                     4          4.1 and up  \n",
      "21                   1.1        4.0.3 and up  \n",
      "22               2.2.6.2        4.0.3 and up  \n",
      "23                 1.0.0          4.1 and up  \n",
      "24                 1.1.3          4.1 and up  \n",
      "25                   1.5          3.0 and up  \n",
      "26                 1.0.8        4.0.3 and up  \n",
      "27                  1.03        4.0.3 and up  \n",
      "28                     6          2.3 and up  \n",
      "29                     1          2.3 and up  \n",
      "...                  ...                 ...  \n",
      "9629               1.3.6         4.4W and up  \n",
      "9630              2.0.20        4.0.3 and up  \n",
      "9631              2.1.10          4.1 and up  \n",
      "9632               1.3.1          3.0 and up  \n",
      "9633             7.0.4.6          4.2 and up  \n",
      "9634               2.1.8          4.1 and up  \n",
      "9635          1.0.612928          5.0 and up  \n",
      "9636                 2.3          2.2 and up  \n",
      "9637               0.3.4          4.1 and up  \n",
      "9638               3.8.0          4.1 and up  \n",
      "9639                   1        4.0.3 and up  \n",
      "9640                   1          4.4 and up  \n",
      "9641                   1        4.0.3 and up  \n",
      "9642               2.2.2          4.4 and up  \n",
      "9643                   1          4.0 and up  \n",
      "9644  Varies with device  Varies with device  \n",
      "9645              2.0.20        4.0.3 and up  \n",
      "9646               2.0.1          4.0 and up  \n",
      "9647                2.96          4.1 and up  \n",
      "9648                 1.5          1.6 and up  \n",
      "9649           2.0.148.0          4.0 and up  \n",
      "9650                   6          2.1 and up  \n",
      "9651                 0.8          2.2 and up  \n",
      "9652               1.0.0          4.1 and up  \n",
      "9653               1.1.5          4.0 and up  \n",
      "9654                1.48          4.1 and up  \n",
      "9655                   1          4.1 and up  \n",
      "9656                   1          2.2 and up  \n",
      "9657  Varies with device  Varies with device  \n",
      "9658  Varies with device  Varies with device  \n",
      "\n",
      "[9659 rows x 14 columns]\n",
      "<class 'pandas.core.frame.DataFrame'>\n",
      "Int64Index: 9659 entries, 0 to 9658\n",
      "Data columns (total 14 columns):\n",
      "Unnamed: 0        9659 non-null int64\n",
      "App               9659 non-null object\n",
      "Category          9659 non-null object\n",
      "Rating            8196 non-null float64\n",
      "Reviews           9659 non-null int64\n",
      "Size              8432 non-null float64\n",
      "Installs          9659 non-null object\n",
      "Type              9659 non-null object\n",
      "Price             9659 non-null object\n",
      "Content Rating    9659 non-null object\n",
      "Genres            9659 non-null object\n",
      "Last Updated      9659 non-null object\n",
      "Current Ver       9651 non-null object\n",
      "Android Ver       9657 non-null object\n",
      "dtypes: float64(2), int64(2), object(10)\n",
      "memory usage: 1.1+ MB\n",
      "None\n"
     ]
    },
    {
     "data": {
      "text/html": [
       "<div>\n",
       "<style scoped>\n",
       "    .dataframe tbody tr th:only-of-type {\n",
       "        vertical-align: middle;\n",
       "    }\n",
       "\n",
       "    .dataframe tbody tr th {\n",
       "        vertical-align: top;\n",
       "    }\n",
       "\n",
       "    .dataframe thead th {\n",
       "        text-align: right;\n",
       "    }\n",
       "</style>\n",
       "<table border=\"1\" class=\"dataframe\">\n",
       "  <thead>\n",
       "    <tr style=\"text-align: right;\">\n",
       "      <th></th>\n",
       "      <th>Unnamed: 0</th>\n",
       "      <th>App</th>\n",
       "      <th>Category</th>\n",
       "      <th>Rating</th>\n",
       "      <th>Reviews</th>\n",
       "      <th>Size</th>\n",
       "      <th>Installs</th>\n",
       "      <th>Type</th>\n",
       "      <th>Price</th>\n",
       "      <th>Content Rating</th>\n",
       "      <th>Genres</th>\n",
       "      <th>Last Updated</th>\n",
       "      <th>Current Ver</th>\n",
       "      <th>Android Ver</th>\n",
       "    </tr>\n",
       "  </thead>\n",
       "  <tbody>\n",
       "    <tr>\n",
       "      <th>6882</th>\n",
       "      <td>7944</td>\n",
       "      <td>Free resume builder CV maker templates PDF for...</td>\n",
       "      <td>BUSINESS</td>\n",
       "      <td>4.4</td>\n",
       "      <td>9555</td>\n",
       "      <td>4.7</td>\n",
       "      <td>1,000,000+</td>\n",
       "      <td>Free</td>\n",
       "      <td>0</td>\n",
       "      <td>Everyone</td>\n",
       "      <td>Business</td>\n",
       "      <td>July 19, 2018</td>\n",
       "      <td>7.7</td>\n",
       "      <td>4.1 and up</td>\n",
       "    </tr>\n",
       "    <tr>\n",
       "      <th>8726</th>\n",
       "      <td>9880</td>\n",
       "      <td>EU Mobile Money Partenaire Commercial</td>\n",
       "      <td>FINANCE</td>\n",
       "      <td>4.3</td>\n",
       "      <td>70</td>\n",
       "      <td>3.9</td>\n",
       "      <td>10,000+</td>\n",
       "      <td>Free</td>\n",
       "      <td>0</td>\n",
       "      <td>Everyone</td>\n",
       "      <td>Finance</td>\n",
       "      <td>May 14, 2018</td>\n",
       "      <td>1.3</td>\n",
       "      <td>4.0.3 and up</td>\n",
       "    </tr>\n",
       "    <tr>\n",
       "      <th>2526</th>\n",
       "      <td>3254</td>\n",
       "      <td>Calculator - free calculator ,multi calculator...</td>\n",
       "      <td>TOOLS</td>\n",
       "      <td>4.4</td>\n",
       "      <td>1236</td>\n",
       "      <td>5.8</td>\n",
       "      <td>100,000+</td>\n",
       "      <td>Free</td>\n",
       "      <td>0</td>\n",
       "      <td>Everyone</td>\n",
       "      <td>Tools</td>\n",
       "      <td>July 6, 2018</td>\n",
       "      <td>8.1.6</td>\n",
       "      <td>4.2 and up</td>\n",
       "    </tr>\n",
       "    <tr>\n",
       "      <th>1808</th>\n",
       "      <td>2306</td>\n",
       "      <td>CareZone</td>\n",
       "      <td>MEDICAL</td>\n",
       "      <td>4.4</td>\n",
       "      <td>27524</td>\n",
       "      <td>NaN</td>\n",
       "      <td>1,000,000+</td>\n",
       "      <td>Free</td>\n",
       "      <td>0</td>\n",
       "      <td>Everyone</td>\n",
       "      <td>Medical</td>\n",
       "      <td>July 30, 2018</td>\n",
       "      <td>Varies with device</td>\n",
       "      <td>Varies with device</td>\n",
       "    </tr>\n",
       "    <tr>\n",
       "      <th>1241</th>\n",
       "      <td>1529</td>\n",
       "      <td>chicken song</td>\n",
       "      <td>LIBRARIES_AND_DEMO</td>\n",
       "      <td>4.3</td>\n",
       "      <td>434</td>\n",
       "      <td>16.0</td>\n",
       "      <td>100,000+</td>\n",
       "      <td>Free</td>\n",
       "      <td>0</td>\n",
       "      <td>Everyone</td>\n",
       "      <td>Libraries &amp; Demo</td>\n",
       "      <td>June 6, 2018</td>\n",
       "      <td>6.0.0</td>\n",
       "      <td>2.3 and up</td>\n",
       "    </tr>\n",
       "  </tbody>\n",
       "</table>\n",
       "</div>"
      ],
      "text/plain": [
       "      Unnamed: 0                                                App  \\\n",
       "6882        7944  Free resume builder CV maker templates PDF for...   \n",
       "8726        9880              EU Mobile Money Partenaire Commercial   \n",
       "2526        3254  Calculator - free calculator ,multi calculator...   \n",
       "1808        2306                                           CareZone   \n",
       "1241        1529                                       chicken song   \n",
       "\n",
       "                Category  Rating  Reviews  Size    Installs  Type Price  \\\n",
       "6882            BUSINESS     4.4     9555   4.7  1,000,000+  Free     0   \n",
       "8726             FINANCE     4.3       70   3.9     10,000+  Free     0   \n",
       "2526               TOOLS     4.4     1236   5.8    100,000+  Free     0   \n",
       "1808             MEDICAL     4.4    27524   NaN  1,000,000+  Free     0   \n",
       "1241  LIBRARIES_AND_DEMO     4.3      434  16.0    100,000+  Free     0   \n",
       "\n",
       "     Content Rating            Genres   Last Updated         Current Ver  \\\n",
       "6882       Everyone          Business  July 19, 2018                 7.7   \n",
       "8726       Everyone           Finance   May 14, 2018                 1.3   \n",
       "2526       Everyone             Tools   July 6, 2018               8.1.6   \n",
       "1808       Everyone           Medical  July 30, 2018  Varies with device   \n",
       "1241       Everyone  Libraries & Demo   June 6, 2018               6.0.0   \n",
       "\n",
       "             Android Ver  \n",
       "6882          4.1 and up  \n",
       "8726        4.0.3 and up  \n",
       "2526          4.2 and up  \n",
       "1808  Varies with device  \n",
       "1241          2.3 and up  "
      ]
     },
     "execution_count": 2,
     "metadata": {},
     "output_type": "execute_result"
    }
   ],
   "source": [
    "# Read in dataset\n",
    "import pandas as pd\n",
    "apps_with_duplicates = pd.read_csv('datasets/apps.csv')\n",
    "\n",
    "# Drop duplicates\n",
    "apps = apps_with_duplicates.drop_duplicates()\n",
    "\n",
    "# Print the total number of apps\n",
    "print('Total number of apps in the dataset = ', apps)\n",
    "\n",
    "# Print a concise summary of apps dataframe\n",
    "print(apps.info())\n",
    "\n",
    "# Have a look at a random sample of n rows\n",
    "n = 5\n",
    "apps.sample(n)"
   ]
  },
  {
   "cell_type": "markdown",
   "metadata": {
    "dc": {
     "key": "11"
    },
    "deletable": false,
    "editable": false,
    "run_control": {
     "frozen": true
    },
    "tags": [
     "context"
    ]
   },
   "source": [
    "## 2. Data cleaning\n",
    "<p>The four features that we will be working with most frequently henceforth are <code>Installs</code>, <code>Size</code>, <code>Rating</code> and <code>Price</code>. The <code>info()</code> function (from the previous task)  told us that <code>Installs</code> and <code>Price</code> columns are of type <code>object</code> and not <code>int64</code> or <code>float64</code> as we would expect. This is because the column contains some characters more than just [0,9] digits. Ideally, we would want these columns to be numeric as their name suggests. <br>\n",
    "Hence, we now proceed to data cleaning and prepare our data to be consumed in our analyis later. Specifically, the presence of special characters (<code>, $ +</code>) in the <code>Installs</code> and <code>Price</code> columns make their conversion to a numerical data type difficult.</p>"
   ]
  },
  {
   "cell_type": "code",
   "execution_count": 3,
   "metadata": {
    "dc": {
     "key": "11"
    },
    "tags": [
     "sample_code"
    ]
   },
   "outputs": [],
   "source": [
    "# List of characters to remove\n",
    "chars_to_remove = ['+',',','$']\n",
    "# List of column names to clean\n",
    "cols_to_clean = ['Installs', 'Price']\n",
    "\n",
    "# Loop for each column\n",
    "for col in cols_to_clean:\n",
    "    # Replace each character with an empty string\n",
    "    for char in chars_to_remove:\n",
    "        apps[col] = apps[col].astype(str).str.replace(char, '')\n",
    "    # Convert col to numeric\n",
    "    apps[col] = pd.to_numeric(apps[col]) "
   ]
  },
  {
   "cell_type": "markdown",
   "metadata": {
    "dc": {
     "key": "18"
    },
    "deletable": false,
    "editable": false,
    "run_control": {
     "frozen": true
    },
    "tags": [
     "context"
    ]
   },
   "source": [
    "## 3. Exploring app categories\n",
    "<p>With more than 1 billion active users in 190 countries around the world, Google Play continues to be an important distribution platform to build a global audience. For businesses to get their apps in front of users, it's important to make them more quickly and easily discoverable on Google Play. To improve the overall search experience, Google has introduced the concept of grouping apps into categories.</p>\n",
    "<p>This brings us to the following questions:</p>\n",
    "<ul>\n",
    "<li>Which category has the highest share of (active) apps in the market? </li>\n",
    "<li>Is any specific category dominating the market?</li>\n",
    "<li>Which categories have the fewest number of apps?</li>\n",
    "</ul>\n",
    "<p>We will see that there are <code>33</code> unique app categories present in our dataset. <em>Family</em> and <em>Game</em> apps have the highest market prevalence. Interestingly, <em>Tools</em>, <em>Business</em> and <em>Medical</em> apps are also at the top.</p>"
   ]
  },
  {
   "cell_type": "code",
   "execution_count": null,
   "metadata": {
    "dc": {
     "key": "18"
    },
    "tags": [
     "sample_code"
    ]
   },
   "outputs": [
    {
     "data": {
      "text/html": [
       "        <script type=\"text/javascript\">\n",
       "        window.PlotlyConfig = {MathJaxConfig: 'local'};\n",
       "        if (window.MathJax) {MathJax.Hub.Config({SVG: {font: \"STIX-Web\"}});}\n",
       "        if (typeof require !== 'undefined') {\n",
       "        require.undef(\"plotly\");\n",
       "        requirejs.config({\n",
       "            paths: {\n",
       "                'plotly': ['https://cdn.plot.ly/plotly-latest.min']\n",
       "            }\n",
       "        });\n",
       "        require(['plotly'], function(Plotly) {\n",
       "            window._Plotly = Plotly;\n",
       "        });\n",
       "        }\n",
       "        </script>\n",
       "        "
      ]
     },
     "metadata": {},
     "output_type": "display_data"
    },
    {
     "name": "stdout",
     "output_type": "stream",
     "text": [
      "Number of categories =  33\n"
     ]
    }
   ],
   "source": [
    "import plotly\n",
    "plotly.offline.init_notebook_mode(connected=True)\n",
    "import plotly.graph_objs as go\n",
    "\n",
    "# Print the total number of unique categories\n",
    "num_categories = len(apps['Category'].unique())\n",
    "print('Number of categories = ', num_categories)\n",
    "\n",
    "# Count the number of apps in each 'Category' and sort them in descending order\n",
    "num_apps_in_category = apps['Category'].value_counts().sort_values(ascending = False)\n",
    "\n",
    "data = [go.Bar(\n",
    "        x = num_apps_in_category.index, # index = category name\n",
    "        y = num_apps_in_category.values, # value = count\n",
    ")]\n",
    "\n",
    "plotly.offline.iplot(data)"
   ]
  },
  {
   "cell_type": "markdown",
   "metadata": {
    "dc": {
     "key": "25"
    },
    "deletable": false,
    "editable": false,
    "run_control": {
     "frozen": true
    },
    "tags": [
     "context"
    ]
   },
   "source": [
    "## 4. Distribution of app ratings\n",
    "<p>After having witnessed the market share for each category of apps, let's see how all these apps perform on an average. App ratings (on a scale of 1 to 5) impact the discoverability, conversion of apps as well as the company's overall brand image. Ratings are a key performance indicator of an app.</p>\n",
    "<p>From our research, we found that the average volume of ratings across all app categories is <code>4.17</code>. The histogram plot is skewed to the left indicating that the majority of the apps are highly rated with only a few exceptions in the low-rated apps.</p>"
   ]
  },
  {
   "cell_type": "code",
   "execution_count": null,
   "metadata": {
    "dc": {
     "key": "25"
    },
    "tags": [
     "sample_code"
    ]
   },
   "outputs": [],
   "source": [
    "# Average rating of apps\n",
    "avg_app_rating = apps['Rating'].mean()\n",
    "print('Average app rating = ', avg_app_rating)\n",
    "\n",
    "# Distribution of apps according to their ratings\n",
    "data = [go.Histogram(\n",
    "        x = apps['Rating']\n",
    ")]\n",
    "\n",
    "# Vertical dashed line to indicate the average app rating\n",
    "layout = {'shapes': [{\n",
    "              'type' :'line',\n",
    "              'x0': avg_app_rating,\n",
    "              'y0': 0,\n",
    "              'x1': avg_app_rating,\n",
    "              'y1': 1000,\n",
    "              'line': { 'dash': 'dashdot'}\n",
    "          }]\n",
    "          }\n",
    "\n",
    "plotly.offline.iplot({'data': data, 'layout': layout})"
   ]
  },
  {
   "cell_type": "markdown",
   "metadata": {
    "dc": {
     "key": "32"
    },
    "deletable": false,
    "editable": false,
    "run_control": {
     "frozen": true
    },
    "tags": [
     "context"
    ]
   },
   "source": [
    "## 5. Size and price of an app\n",
    "<p>Let's now examine app size and app price. For size, if the mobile app is too large, it may be difficult and/or expensive for users to download. Lengthy download times could turn users off before they even experience your mobile app. Plus, each user's device has a finite amount of disk space. For price, some users expect their apps to be free or inexpensive. These problems compound if the developing world is part of your target market; especially due to internet speeds, earning power and exchange rates.</p>\n",
    "<p>How can we effectively come up with strategies to size and price our app?</p>\n",
    "<ul>\n",
    "<li>Does the size of an app affect its rating? </li>\n",
    "<li>Do users really care about system-heavy apps or do they prefer light-weighted apps? </li>\n",
    "<li>Does the price of an app affect its rating? </li>\n",
    "<li>Do users always prefer free apps over paid apps?</li>\n",
    "</ul>\n",
    "<p>We find that the majority of top rated apps (rating over 4) range from 2 MB to 20 MB. We also find that the vast majority of apps price themselves under \\$10.</p>"
   ]
  },
  {
   "cell_type": "code",
   "execution_count": null,
   "metadata": {
    "dc": {
     "key": "32"
    },
    "tags": [
     "sample_code"
    ]
   },
   "outputs": [],
   "source": [
    "%matplotlib inline\n",
    "import seaborn as sns\n",
    "sns.set_style(\"darkgrid\")\n",
    "import warnings\n",
    "warnings.filterwarnings(\"ignore\")\n",
    "\n",
    "# Filter rows where both Rating and Size values are not null\n",
    "apps_with_size_and_rating_present = apps[(~apps['Rating'].isnull()) & (~apps['Size'].isnull())]\n",
    "\n",
    "# Subset for categories with at least 250 apps\n",
    "large_categories = apps_with_size_and_rating_present.groupby('Category').filter(lambda x: len(x) >= 250).reset_index()\n",
    "\n",
    "# Plot size vs. rating\n",
    "plt1 = sns.jointplot(x = large_categories['Size'], y = large_categories['Rating'], kind = 'hex')\n",
    "\n",
    "# Subset apps whose 'Type' is 'Paid'\n",
    "paid_apps = apps_with_size_and_rating_present[apps_with_size_and_rating_present['Type'] == 'Paid']\n",
    "\n",
    "# Plot price vs. rating\n",
    "plt2 = sns.jointplot(x = paid_apps['Price'], y = paid_apps['Rating'])"
   ]
  },
  {
   "cell_type": "markdown",
   "metadata": {
    "dc": {
     "key": "39"
    },
    "deletable": false,
    "editable": false,
    "run_control": {
     "frozen": true
    },
    "tags": [
     "context"
    ]
   },
   "source": [
    "## 6. Relation between app category and app price\n",
    "<p>So now comes the hard part. How are companies and developers supposed to make ends meet? What monetization strategies can companies use to maximize profit? The costs of apps are largely based on features, complexity, and platform.</p>\n",
    "<p>There are many factors to consider when selecting the right pricing strategy for your mobile app. It is important to consider the willingness of your customer to pay for your app. A wrong price could break the deal before the download even happens. Potential customers could be turned off by what they perceive to be a shocking cost, or they might delete an app they’ve downloaded after receiving too many ads or simply not getting their money's worth.</p>\n",
    "<p>Different categories demand different price ranges. Some apps that are simple and used daily, like the calculator app, should probably be kept free. However, it would make sense to charge for a highly-specialized medical app that diagnoses diabetic patients. Below, we see that <em>Medical and Family</em> apps are the most expensive. Some medical apps extend even up to \\$80! All game apps are reasonably priced below \\$20.</p>"
   ]
  },
  {
   "cell_type": "code",
   "execution_count": null,
   "metadata": {
    "dc": {
     "key": "39"
    },
    "tags": [
     "sample_code"
    ]
   },
   "outputs": [],
   "source": [
    "import matplotlib.pyplot as plt\n",
    "fig, ax = plt.subplots()\n",
    "fig.set_size_inches(15, 8)\n",
    "\n",
    "# Select a few popular app categories\n",
    "popular_app_cats = apps[apps.Category.isin(['GAME', 'FAMILY', 'PHOTOGRAPHY',\n",
    "                                            'MEDICAL', 'TOOLS', 'FINANCE',\n",
    "                                            'LIFESTYLE','BUSINESS'])]\n",
    "\n",
    "# Examine the price trend by plotting Price vs Category\n",
    "ax = sns.stripplot(x = popular_app_cats['Price'], y = popular_app_cats['Category'], jitter=True, linewidth=1)\n",
    "ax.set_title('App pricing trend across categories')\n",
    "\n",
    "# Apps whose Price is greater than 200\n",
    "apps_above_200 = popular_app_cats[['Category', 'App', 'Price']][popular_app_cats['Price'] > 200]\n",
    "apps_above_200"
   ]
  },
  {
   "cell_type": "markdown",
   "metadata": {
    "dc": {
     "key": "46"
    },
    "deletable": false,
    "editable": false,
    "run_control": {
     "frozen": true
    },
    "tags": [
     "context"
    ]
   },
   "source": [
    "## 7. Filter out \"junk\" apps\n",
    "<p>It looks like a bunch of the really expensive apps are \"junk\" apps. That is, apps that don't really have a purpose. Some app developer may create an app called <em>I Am Rich Premium</em> or <em>most expensive app (H)</em> just for a joke or to test their app development skills. Some developers even do this with malicious intent and try to make money by hoping people accidentally click purchase on their app in the store.</p>\n",
    "<p>Let's filter out these junk apps and re-do our visualization.</p>"
   ]
  },
  {
   "cell_type": "code",
   "execution_count": null,
   "metadata": {
    "dc": {
     "key": "46"
    },
    "tags": [
     "sample_code"
    ]
   },
   "outputs": [],
   "source": [
    "# Select apps priced below $100\n",
    "apps_under_100 = popular_app_cats[popular_app_cats['Price'] < 100]\n",
    "\n",
    "fig, ax = plt.subplots()\n",
    "fig.set_size_inches(15, 8)\n",
    "\n",
    "# Examine price vs category with the authentic apps (apps_under_100)\n",
    "ax = sns.stripplot(x='Price', y='Category', data=apps_under_100,\n",
    "                   jitter=True, linewidth=1)\n",
    "ax.set_title('App pricing trend across categories after filtering for junk apps')"
   ]
  },
  {
   "cell_type": "markdown",
   "metadata": {
    "dc": {
     "key": "53"
    },
    "deletable": false,
    "editable": false,
    "run_control": {
     "frozen": true
    },
    "tags": [
     "context"
    ]
   },
   "source": [
    "## 8. Popularity of paid apps vs free apps\n",
    "<p>For apps in the Play Store today, there are five types of pricing strategies: free, freemium, paid, paymium, and subscription. Let's focus on free and paid apps only. Some characteristics of free apps are:</p>\n",
    "<ul>\n",
    "<li>Free to download.</li>\n",
    "<li>Main source of income often comes from advertisements.</li>\n",
    "<li>Often created by companies that have other products and the app serves as an extension of those products.</li>\n",
    "<li>Can serve as a tool for customer retention, communication, and customer service.</li>\n",
    "</ul>\n",
    "<p>Some characteristics of paid apps are:</p>\n",
    "<ul>\n",
    "<li>Users are asked to pay once for the app to download and use it.</li>\n",
    "<li>The user can't really get a feel for the app before buying it.</li>\n",
    "</ul>\n",
    "<p>Are paid apps installed as much as free apps? It turns out that paid apps have a relatively lower number of installs than free apps, though the difference is not as stark as I would have expected!</p>"
   ]
  },
  {
   "cell_type": "code",
   "execution_count": null,
   "metadata": {
    "dc": {
     "key": "53"
    },
    "tags": [
     "sample_code"
    ]
   },
   "outputs": [],
   "source": [
    "trace0 = go.Box(\n",
    "    # Data for paid apps\n",
    "    y=apps[apps['Type'] == 'Paid']['Installs'],\n",
    "    name = 'Paid'\n",
    ")\n",
    "\n",
    "trace1 = go.Box(\n",
    "    # Data for free apps\n",
    "    y=apps[apps['Type'] == 'Free']['Installs'],\n",
    "    name = 'Free'\n",
    ")\n",
    "\n",
    "layout = go.Layout(\n",
    "    title = \"Number of downloads of paid apps vs. free apps\",\n",
    "    yaxis = dict(\n",
    "        type = 'log',\n",
    "        autorange = True\n",
    "    )\n",
    ")\n",
    "\n",
    "# Add trace0 and trace1 to a list for plotting\n",
    "data = [trace0, trace1]\n",
    "plotly.offline.iplot({'data': data, 'layout': layout})"
   ]
  },
  {
   "cell_type": "markdown",
   "metadata": {
    "dc": {
     "key": "60"
    },
    "deletable": false,
    "editable": false,
    "run_control": {
     "frozen": true
    },
    "tags": [
     "context"
    ]
   },
   "source": [
    "## 9. Sentiment analysis of user reviews\n",
    "<p>Mining user review data to determine how people feel about your product, brand, or service can be done using a technique called sentiment analysis. User reviews for apps can be analyzed to identify if the mood is positive, negative or neutral about that app. For example, positive words in an app review might include words such as 'amazing', 'friendly', 'good', 'great', and 'love'. Negative words might be words like 'malware', 'hate', 'problem', 'refund', and 'incompetent'.</p>\n",
    "<p>By plotting sentiment polarity scores of user reviews for paid and free apps, we observe that free apps receive a lot of harsh comments, as indicated by the outliers on the negative y-axis. Reviews for paid apps appear never to be extremely negative. This may indicate something about app quality, i.e., paid apps being of higher quality than free apps on average. The median polarity score for paid apps is a little higher than free apps, thereby syncing with our previous observation.</p>\n",
    "<p>In this notebook, we analyzed over ten thousand apps from the Google Play Store. We can use our findings to inform our decisions should we ever wish to create an app ourselves.</p>"
   ]
  },
  {
   "cell_type": "code",
   "execution_count": null,
   "metadata": {
    "dc": {
     "key": "60"
    },
    "tags": [
     "sample_code"
    ]
   },
   "outputs": [],
   "source": [
    "# Load user_reviews.csv\n",
    "reviews_df = pd.read_csv('datasets/user_reviews.csv')\n",
    "\n",
    "# Join and merge the two dataframe\n",
    "merged_df = pd.merge('apps', 'review_df', on ='App', how = \"inner\")\n",
    "\n",
    "# Drop NA values from Sentiment and Translated_Review columns\n",
    "merged_df = merged_df.dropna(subset=['Sentiment', 'Translated_Review'])\n",
    "\n",
    "sns.set_style('ticks')\n",
    "fig, ax = plt.subplots()\n",
    "fig.set_size_inches(11, 8)\n",
    "\n",
    "# User review sentiment polarity for paid vs. free apps\n",
    "ax = sns.boxplot(x = 'Type', y = 'Sentiment_Polarity', data = merged_df)\n",
    "ax.set_title('Sentiment Polarity Distribution')"
   ]
  },
  {
   "cell_type": "code",
   "execution_count": null,
   "metadata": {},
   "outputs": [],
   "source": []
  }
 ],
 "metadata": {
  "kernelspec": {
   "display_name": "Python 3",
   "language": "python",
   "name": "python3"
  },
  "language_info": {
   "codemirror_mode": {
    "name": "ipython",
    "version": 3
   },
   "file_extension": ".py",
   "mimetype": "text/x-python",
   "name": "python",
   "nbconvert_exporter": "python",
   "pygments_lexer": "ipython3",
   "version": "3.7.3"
  }
 },
 "nbformat": 4,
 "nbformat_minor": 2
}
